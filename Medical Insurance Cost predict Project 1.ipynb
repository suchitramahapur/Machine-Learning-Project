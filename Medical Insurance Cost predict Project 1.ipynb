{
 "cells": [
  {
   "cell_type": "markdown",
   "id": "7c2ae2ac-08c9-4984-9edb-b1b556a5cfa5",
   "metadata": {},
   "source": [
    "# Define the Problem: About The Dataset\n",
    "#### ACME Insurance Inc. offers affordable health insurance to thousands of customer all over the United States. You're tasked with creating an automated system to estimate the annual medical expenditure for new customers, using information such as their age, sex, BMI, children, smoking habits and region of residence.\n",
    "\n",
    "#### Estimates from your system will be used to determine the annual insurance premium (amount paid every month) offered to the customer.\n",
    "* A medical insurance cost prediction project typically involves using machine learning techniques to predict the cost of medical insurance for individuals based on various factors such as age, gender, BMI (Body Mass Index), smoking status, region, and other relevant features. Here's an overview of the key steps involved in such a project:\n",
    "\n",
    "* Data Collection:\n",
    "  \n",
    "Gather a dataset containing information about individuals' medical insurance costs along with relevant features such as age, gender, BMI, smoking status, region, etc. This dataset may be obtained from public sources, healthcare providers, or insurance companies.\n",
    "\n",
    "* Data Preprocessing:\n",
    "\n",
    "Clean the dataset by handling missing values, outliers, and inconsistencies.\n",
    "Convert categorical variables into numerical representations using techniques such as one-hot encoding or label encoding.\n",
    "Normalize or scale numerical features to ensure they are on a similar scale, which can improve the performance of certain machine learning algorithms.\n",
    "\n",
    "* Exploratory Data Analysis (EDA):\n",
    "\n",
    "Explore the dataset to gain insights into the distribution of features, relationships between variables, and any patterns or trends.\n",
    "Visualize the data using plots such as histograms, scatter plots, and correlation matrices to understand the underlying structure of the data.\n",
    "\n",
    "* Feature Engineering:\n",
    "\n",
    "Create new features or transform existing ones that may improve the predictive performance of the model.\n",
    "For example, derive features such as BMI from height and weight, or create interaction terms between certain features.\n",
    "\n",
    "* Model Selection and Training:\n",
    "\n",
    "Choose appropriate machine learning algorithms for regression tasks, such as linear regression, decision trees, random forests, gradient boosting methods (e.g., AdaBoost, XGBoost), or neural networks.\n",
    "Split the dataset into training and testing sets using techniques like train-test split or cross-validation.\n",
    "Train the chosen models on the training data and tune hyperparameters using techniques like grid search or randomized search.\n",
    "\n",
    "* Model Evaluation:\n",
    "\n",
    "Evaluate the performance of the trained models using appropriate metrics such as R-squared (R^2) score, mean squared error (MSE), mean absolute error (MAE), or root mean squared error (RMSE).\n",
    "Compare the performance of different models to select the best-performing one for deployment.\n",
    "\n",
    "* Deployment :\n",
    "\n",
    "Deploy the trained model into production, where it can be used to make predictions on new data.\n",
    "Monitor the performance of the deployed model over time and update it as needed to maintain accuracy and reliability.\n",
    "\n",
    "\n",
    "\n",
    "\n",
    "\n",
    "\n",
    "\n",
    "\n"
   ]
  },
  {
   "cell_type": "markdown",
   "id": "b1e6531c-da17-4be6-986e-8bd479cc893e",
   "metadata": {},
   "source": [
    "# Importing Libraries"
   ]
  },
  {
   "cell_type": "code",
   "execution_count": 1,
   "id": "0dea1a03-9b26-4cec-a7b3-c88f04da808a",
   "metadata": {},
   "outputs": [],
   "source": [
    "import pandas as pd\n",
    "import numpy as np\n",
    "import matplotlib.pyplot as plt\n",
    "import seaborn as sns\n",
    "from sklearn.preprocessing import StandardScaler\n",
    "from sklearn.model_selection import train_test_split\n",
    "from sklearn.linear_model import LinearRegression\n",
    "from sklearn.tree import DecisionTreeRegressor\n",
    "from sklearn.ensemble import AdaBoostRegressor\n",
    "from sklearn.ensemble import RandomForestRegressor\n",
    "from sklearn.metrics import r2_score, mean_squared_error\n",
    "from sklearn.feature_selection import SequentialFeatureSelector\n",
    "\n"
   ]
  },
  {
   "cell_type": "markdown",
   "id": "c4c55e65-f5bf-48d8-9572-866a9a34fcec",
   "metadata": {},
   "source": [
    "* import pandas as pd: This imports the pandas library and assigns it the alias pd. Pandas is a powerful library for data manipulation and analysis, particularly for working with structured data in tabular form using DataFrame objects.\n",
    "\n",
    "* import numpy as np: This imports the NumPy library and assigns it the alias np. NumPy is a fundamental library for numerical computing in Python, providing support for large, multi-dimensional arrays and matrices, along with a collection of mathematical functions to operate on these arrays efficiently.\n",
    "\n",
    "* import matplotlib.pyplot as plt: This imports the pyplot module from the Matplotlib library and assigns it the alias plt. Matplotlib is a widely used plotting library in Python, and pyplot provides a MATLAB-like interface for creating various types of plots and visualizations.\n",
    "\n",
    "* import seaborn as sns: This imports the seaborn library, which is built on top of Matplotlib and provides a higher-level interface for creating attractive and informative statistical graphics and visualizations.\n",
    "\n",
    "* from sklearn.preprocessing import StandardScaler: This imports the StandardScaler class from the preprocessing module of scikit-learn. StandardScaler is used for standardizing features by removing the mean and scaling to unit variance, which can be important for certain machine learning algorithms.\n",
    "\n",
    "* from sklearn.model_selection import train_test_split: This imports the train_test_split function from the model_selection module of scikit-learn. train_test_split is commonly used to split data into training and testing sets for machine learning model evaluation.\n",
    "\n",
    "* from sklearn.linear_model import LinearRegression: This imports the LinearRegression class from the linear_model module of scikit-learn. Linear regression is a simple linear model used for modeling the relationship between a dependent variable and one or more independent variables.\n",
    "\n",
    "* from sklearn.tree import DecisionTreeRegressor: This imports the DecisionTreeRegressor class from the tree module of scikit-learn. Decision trees are non-parametric supervised learning models used for regression tasks.\n",
    "\n",
    "* from sklearn.ensemble import AdaBoostRegressor: This imports the AdaBoostRegressor class from the ensemble module of scikit-learn. AdaBoost (Adaptive Boosting) is an ensemble learning method that combines multiple weak learners to build a strong learner.\n",
    "\n",
    "* from sklearn.ensemble import RandomForestRegressor: This imports the RandomForestRegressor class from the ensemble module of scikit-learn. Random forests are ensemble learning methods that build multiple decision trees and combine their predictions to improve accuracy and robustness.\n",
    "\n",
    "* from sklearn.metrics import r2_score, mean_squared_error: This imports the r2_score function and mean_squared_error function from the metrics module of scikit-learn. These functions are commonly used to evaluate the performance of regression models.\n",
    "\n",
    "* from sklearn.feature_selection import SequentialFeatureSelector: This imports the SequentialFeatureSelector class from the feature_selection module of scikit-learn. Sequential feature selection is a technique used to select the most relevant features from a dataset for improving model performance."
   ]
  },
  {
   "cell_type": "code",
   "execution_count": 2,
   "id": "197bb774-27e0-45ac-a00c-caf899d143aa",
   "metadata": {},
   "outputs": [],
   "source": [
    "import warnings\n",
    "warnings.filterwarnings(\"ignore\")"
   ]
  },
  {
   "cell_type": "markdown",
   "id": "b59f17ae-2a32-4efb-ab01-bcbd571c101d",
   "metadata": {},
   "source": [
    "* import warnings: This imports the warnings module, which provides functions for issuing warnings to the user. Warnings are typically issued by Python or by third-party libraries to alert the user about potential issues, inconsistencies, or deprecated features.\n",
    "\n",
    "* warnings.filterwarnings(\"ignore\"): This line sets up a filter to ignore all warnings. When this line is executed, Python will suppress any warnings that would have been issued during the execution of the code.\n",
    "* It's important to use caution when suppressing warnings, as it can potentially hide important information about problems in your code or unexpected behavior in the execution environment.\n",
    "* It's recommended to only suppress warnings when you are confident that doing so will not lead to unintended consequences or hide genuine issues that need to be addressed."
   ]
  },
  {
   "cell_type": "markdown",
   "id": "92f28a94-a7c7-4d48-96f6-0a918079e9be",
   "metadata": {},
   "source": [
    "# Loading Data\n",
    "## Data Collection"
   ]
  },
  {
   "cell_type": "code",
   "execution_count": 3,
   "id": "dde3b474-1de7-4d81-bec6-a5ff47cf9a39",
   "metadata": {},
   "outputs": [],
   "source": [
    "data = pd.read_csv(\"medical_insurance.csv\")"
   ]
  },
  {
   "cell_type": "code",
   "execution_count": 4,
   "id": "894b33d3-3b49-446d-819b-027709e6efb4",
   "metadata": {},
   "outputs": [],
   "source": [
    "df = data.copy()"
   ]
  },
  {
   "cell_type": "markdown",
   "id": "2c541ae4-dbf9-443c-a155-7bc46968fba0",
   "metadata": {},
   "source": [
    "* copying the DataFrame data into df marks the beginning of the data preparation phase in a machine learning project. \n",
    "* It enables you to manipulate and transform the data to create meaningful features for training machine learning models while preserving the integrity of the original dataset."
   ]
  },
  {
   "cell_type": "code",
   "execution_count": 5,
   "id": "25b13cef-dbdb-4a5a-b635-10d36ff52b31",
   "metadata": {},
   "outputs": [
    {
     "data": {
      "text/html": [
       "<div>\n",
       "<style scoped>\n",
       "    .dataframe tbody tr th:only-of-type {\n",
       "        vertical-align: middle;\n",
       "    }\n",
       "\n",
       "    .dataframe tbody tr th {\n",
       "        vertical-align: top;\n",
       "    }\n",
       "\n",
       "    .dataframe thead th {\n",
       "        text-align: right;\n",
       "    }\n",
       "</style>\n",
       "<table border=\"1\" class=\"dataframe\">\n",
       "  <thead>\n",
       "    <tr style=\"text-align: right;\">\n",
       "      <th></th>\n",
       "      <th>age</th>\n",
       "      <th>sex</th>\n",
       "      <th>bmi</th>\n",
       "      <th>children</th>\n",
       "      <th>smoker</th>\n",
       "      <th>region</th>\n",
       "      <th>charges</th>\n",
       "    </tr>\n",
       "  </thead>\n",
       "  <tbody>\n",
       "    <tr>\n",
       "      <th>0</th>\n",
       "      <td>19</td>\n",
       "      <td>female</td>\n",
       "      <td>27.900</td>\n",
       "      <td>0</td>\n",
       "      <td>yes</td>\n",
       "      <td>southwest</td>\n",
       "      <td>16884.92400</td>\n",
       "    </tr>\n",
       "    <tr>\n",
       "      <th>1</th>\n",
       "      <td>18</td>\n",
       "      <td>male</td>\n",
       "      <td>33.770</td>\n",
       "      <td>1</td>\n",
       "      <td>no</td>\n",
       "      <td>southeast</td>\n",
       "      <td>1725.55230</td>\n",
       "    </tr>\n",
       "    <tr>\n",
       "      <th>2</th>\n",
       "      <td>28</td>\n",
       "      <td>male</td>\n",
       "      <td>33.000</td>\n",
       "      <td>3</td>\n",
       "      <td>no</td>\n",
       "      <td>southeast</td>\n",
       "      <td>4449.46200</td>\n",
       "    </tr>\n",
       "    <tr>\n",
       "      <th>3</th>\n",
       "      <td>33</td>\n",
       "      <td>male</td>\n",
       "      <td>22.705</td>\n",
       "      <td>0</td>\n",
       "      <td>no</td>\n",
       "      <td>northwest</td>\n",
       "      <td>21984.47061</td>\n",
       "    </tr>\n",
       "    <tr>\n",
       "      <th>4</th>\n",
       "      <td>32</td>\n",
       "      <td>male</td>\n",
       "      <td>28.880</td>\n",
       "      <td>0</td>\n",
       "      <td>no</td>\n",
       "      <td>northwest</td>\n",
       "      <td>3866.85520</td>\n",
       "    </tr>\n",
       "  </tbody>\n",
       "</table>\n",
       "</div>"
      ],
      "text/plain": [
       "   age     sex     bmi  children smoker     region      charges\n",
       "0   19  female  27.900         0    yes  southwest  16884.92400\n",
       "1   18    male  33.770         1     no  southeast   1725.55230\n",
       "2   28    male  33.000         3     no  southeast   4449.46200\n",
       "3   33    male  22.705         0     no  northwest  21984.47061\n",
       "4   32    male  28.880         0     no  northwest   3866.85520"
      ]
     },
     "execution_count": 5,
     "metadata": {},
     "output_type": "execute_result"
    }
   ],
   "source": [
    "df.head()\n",
    "\n"
   ]
  },
  {
   "cell_type": "markdown",
   "id": "509e250d-8818-4fb9-9e4a-b11d70621f37",
   "metadata": {},
   "source": [
    "* Now, we can observe the data and its shape(rows x columns)\n",
    "\n",
    "* This dataset contains 1338 data points with 6 independent features and 1 target feature(charges)."
   ]
  },
  {
   "cell_type": "markdown",
   "id": "bb6855e7-d162-436d-85c3-d1a3bcdb989a",
   "metadata": {},
   "source": [
    "* BMI is less than 18.5, it falls within the underweight range. \n",
    "* If your BMI is 18.5 to 24.9, it falls within the Healthy Weight range. \n",
    "* If your BMI is 25.0 to 29.9, it falls within the overweight range."
   ]
  },
  {
   "cell_type": "code",
   "execution_count": 6,
   "id": "b10fbfeb-f638-4e80-9d77-d74ba05c4612",
   "metadata": {},
   "outputs": [
    {
     "name": "stdout",
     "output_type": "stream",
     "text": [
      "<class 'pandas.core.frame.DataFrame'>\n",
      "RangeIndex: 2772 entries, 0 to 2771\n",
      "Data columns (total 7 columns):\n",
      " #   Column    Non-Null Count  Dtype  \n",
      "---  ------    --------------  -----  \n",
      " 0   age       2772 non-null   int64  \n",
      " 1   sex       2772 non-null   object \n",
      " 2   bmi       2772 non-null   float64\n",
      " 3   children  2772 non-null   int64  \n",
      " 4   smoker    2772 non-null   object \n",
      " 5   region    2772 non-null   object \n",
      " 6   charges   2772 non-null   float64\n",
      "dtypes: float64(2), int64(2), object(3)\n",
      "memory usage: 151.7+ KB\n"
     ]
    }
   ],
   "source": [
    "df.info()"
   ]
  },
  {
   "cell_type": "markdown",
   "id": "63873c4d-e786-4879-96e2-33658e12f648",
   "metadata": {},
   "source": [
    "* From the above, we can see that the dataset contains 2 columns with float values 3 with categorical values and the rest contains integer values."
   ]
  },
  {
   "cell_type": "code",
   "execution_count": 185,
   "id": "8c97b016-3b52-4091-a0a4-231ca0c1cd1c",
   "metadata": {},
   "outputs": [
    {
     "data": {
      "text/html": [
       "<div>\n",
       "<style scoped>\n",
       "    .dataframe tbody tr th:only-of-type {\n",
       "        vertical-align: middle;\n",
       "    }\n",
       "\n",
       "    .dataframe tbody tr th {\n",
       "        vertical-align: top;\n",
       "    }\n",
       "\n",
       "    .dataframe thead th {\n",
       "        text-align: right;\n",
       "    }\n",
       "</style>\n",
       "<table border=\"1\" class=\"dataframe\">\n",
       "  <thead>\n",
       "    <tr style=\"text-align: right;\">\n",
       "      <th></th>\n",
       "      <th>age</th>\n",
       "      <th>bmi</th>\n",
       "      <th>children</th>\n",
       "      <th>charges</th>\n",
       "    </tr>\n",
       "  </thead>\n",
       "  <tbody>\n",
       "    <tr>\n",
       "      <th>count</th>\n",
       "      <td>1337.000000</td>\n",
       "      <td>1337.000000</td>\n",
       "      <td>1337.000000</td>\n",
       "      <td>1337.000000</td>\n",
       "    </tr>\n",
       "    <tr>\n",
       "      <th>mean</th>\n",
       "      <td>39.222139</td>\n",
       "      <td>30.663452</td>\n",
       "      <td>1.095737</td>\n",
       "      <td>13279.121487</td>\n",
       "    </tr>\n",
       "    <tr>\n",
       "      <th>std</th>\n",
       "      <td>14.044333</td>\n",
       "      <td>6.100468</td>\n",
       "      <td>1.205571</td>\n",
       "      <td>12110.359656</td>\n",
       "    </tr>\n",
       "    <tr>\n",
       "      <th>min</th>\n",
       "      <td>18.000000</td>\n",
       "      <td>15.960000</td>\n",
       "      <td>0.000000</td>\n",
       "      <td>1121.873900</td>\n",
       "    </tr>\n",
       "    <tr>\n",
       "      <th>25%</th>\n",
       "      <td>27.000000</td>\n",
       "      <td>26.290000</td>\n",
       "      <td>0.000000</td>\n",
       "      <td>4746.344000</td>\n",
       "    </tr>\n",
       "    <tr>\n",
       "      <th>50%</th>\n",
       "      <td>39.000000</td>\n",
       "      <td>30.400000</td>\n",
       "      <td>1.000000</td>\n",
       "      <td>9386.161300</td>\n",
       "    </tr>\n",
       "    <tr>\n",
       "      <th>75%</th>\n",
       "      <td>51.000000</td>\n",
       "      <td>34.700000</td>\n",
       "      <td>2.000000</td>\n",
       "      <td>16657.717450</td>\n",
       "    </tr>\n",
       "    <tr>\n",
       "      <th>max</th>\n",
       "      <td>64.000000</td>\n",
       "      <td>53.130000</td>\n",
       "      <td>5.000000</td>\n",
       "      <td>63770.428010</td>\n",
       "    </tr>\n",
       "  </tbody>\n",
       "</table>\n",
       "</div>"
      ],
      "text/plain": [
       "               age          bmi     children       charges\n",
       "count  1337.000000  1337.000000  1337.000000   1337.000000\n",
       "mean     39.222139    30.663452     1.095737  13279.121487\n",
       "std      14.044333     6.100468     1.205571  12110.359656\n",
       "min      18.000000    15.960000     0.000000   1121.873900\n",
       "25%      27.000000    26.290000     0.000000   4746.344000\n",
       "50%      39.000000    30.400000     1.000000   9386.161300\n",
       "75%      51.000000    34.700000     2.000000  16657.717450\n",
       "max      64.000000    53.130000     5.000000  63770.428010"
      ]
     },
     "execution_count": 185,
     "metadata": {},
     "output_type": "execute_result"
    }
   ],
   "source": [
    "df.describe()"
   ]
  },
  {
   "cell_type": "markdown",
   "id": "24858f00-3979-48bc-98d5-83b01bced0b0",
   "metadata": {},
   "source": [
    "\n",
    "* We can look at the descriptive statistical measures of the continuous data available in the dataset."
   ]
  },
  {
   "cell_type": "markdown",
   "id": "73153a64-21d4-4073-9fc5-2e6010f1b137",
   "metadata": {},
   "source": [
    "# Data Preprocessing:\n"
   ]
  },
  {
   "cell_type": "code",
   "execution_count": 186,
   "id": "f0e677c1-3a60-40fc-9465-649ac0cebb73",
   "metadata": {},
   "outputs": [
    {
     "data": {
      "text/plain": [
       "age         0\n",
       "sex         0\n",
       "bmi         0\n",
       "children    0\n",
       "smoker      0\n",
       "region      0\n",
       "charges     0\n",
       "dtype: int64"
      ]
     },
     "execution_count": 186,
     "metadata": {},
     "output_type": "execute_result"
    }
   ],
   "source": [
    "data.isnull().sum()"
   ]
  },
  {
   "cell_type": "markdown",
   "id": "5a277560-7ddc-4e03-b5f5-07478ba8ab6f",
   "metadata": {},
   "source": [
    "* Here, we observe there is no missing values in our data and there are 7 columns and 1338 rows.\n",
    "\n",
    "* Here our target column is charges. we need to predict the charges based on other features."
   ]
  },
  {
   "cell_type": "code",
   "execution_count": 7,
   "id": "017a7930-7f91-4b23-8c2f-1293fdb63c2e",
   "metadata": {},
   "outputs": [
    {
     "data": {
      "text/plain": [
       "1435"
      ]
     },
     "execution_count": 7,
     "metadata": {},
     "output_type": "execute_result"
    }
   ],
   "source": [
    "df.duplicated().sum()"
   ]
  },
  {
   "cell_type": "markdown",
   "id": "e3e1c55b-0993-49a8-99c5-1e797e6f8c97",
   "metadata": {},
   "source": [
    "* Understanding and identifying duplicate rows in a DataFrame is important for data cleaning and preprocessing tasks in data analysis and machine learning projects.\n",
    "* Removing duplicates can help improve the accuracy and reliability of analyses and models by ensuring that each observation in the dataset is unique and representative."
   ]
  },
  {
   "cell_type": "code",
   "execution_count": 8,
   "id": "de348613-8fc9-4051-99cf-3ad6c1b55175",
   "metadata": {},
   "outputs": [],
   "source": [
    "df.drop_duplicates(inplace = True)"
   ]
  },
  {
   "cell_type": "markdown",
   "id": "f024648d-b94c-4534-b10f-cae6fb8b8063",
   "metadata": {},
   "source": [
    "* This operation is useful for data cleaning and preprocessing tasks in data.\n",
    "* It helps ensure that the dataset contains only unique observations, which can improve the quality and reliability of analyses and models."
   ]
  },
  {
   "cell_type": "markdown",
   "id": "b9d1ab6d-a7ca-4feb-9c00-ec4f60c5dbc3",
   "metadata": {},
   "source": [
    "# Categorical Variable Analysis: "
   ]
  },
  {
   "cell_type": "code",
   "execution_count": 198,
   "id": "0eccdaf4-b4b5-40cc-a631-397f35d01c0e",
   "metadata": {},
   "outputs": [
    {
     "data": {
      "text/plain": [
       "<Axes: xlabel='sex', ylabel='count'>"
      ]
     },
     "execution_count": 198,
     "metadata": {},
     "output_type": "execute_result"
    },
    {
     "data": {
      "image/png": "[encoded data removed]",
      "text/plain": [
       "<Figure size 640x480 with 1 Axes>"
      ]
     },
     "metadata": {},
     "output_type": "display_data"
    }
   ],
   "source": [
    "sns.countplot(x = \"sex\", data = df, hue = \"sex\")"
   ]
  },
  {
   "cell_type": "markdown",
   "id": "b72ccc38-8515-41ce-92da-9272b95e6119",
   "metadata": {},
   "source": [
    "* This type of visualization is useful for understanding the distribution of categorical variables in the dataset and how they relate to each other.\n",
    "* In this case, the countplot will provide insight into the distribution of smokers and non-smokers across different genders."
   ]
  },
  {
   "cell_type": "code",
   "execution_count": 195,
   "id": "916153ee-2b92-43f0-995b-eafe2bc6a77c",
   "metadata": {},
   "outputs": [
    {
     "name": "stdout",
     "output_type": "stream",
     "text": [
      "SEX:\n",
      "sex\n",
      "male      675\n",
      "female    662\n",
      "Name: count, dtype: int64\n",
      "---------------------------\n",
      "SMOKER:\n",
      "smoker\n",
      "no     1063\n",
      "yes     274\n",
      "Name: count, dtype: int64\n",
      "---------------------------\n",
      "REGION:\n",
      "region\n",
      "southeast    364\n",
      "southwest    325\n",
      "northwest    324\n",
      "northeast    324\n",
      "Name: count, dtype: int64\n",
      "---------------------------\n"
     ]
    }
   ],
   "source": [
    "categorical_data = df.select_dtypes(exclude=np.number)\n",
    "\n",
    "for col in categorical_data.columns:\n",
    "    print(f'{col.upper()}:')\n",
    "    print(df[col].value_counts())\n",
    "    print('---' * 9)"
   ]
  },
  {
   "cell_type": "markdown",
   "id": "f5606410-eea4-47ed-9940-1df123a9f736",
   "metadata": {},
   "source": [
    "* The purpose of this code is to provide insights into the distribution of categorical variables in the DataFrame df.\n",
    "*  By displaying the counts of unique values for each categorical column, you can observe the frequency of different categories and understand their distribution in the dataset.\n",
    "*  This information can be useful for data exploration, identifying potential data quality issues, and informing feature engineering decisions in machine learning tasks."
   ]
  },
  {
   "cell_type": "code",
   "execution_count": 197,
   "id": "2cbb0bf6-4af7-4c86-ac74-071644383c74",
   "metadata": {},
   "outputs": [
    {
     "data": {
      "text/plain": [
       "<Axes: xlabel='region', ylabel='count'>"
      ]
     },
     "execution_count": 197,
     "metadata": {},
     "output_type": "execute_result"
    },
    {
     "data": {
      "image/png": "[encoded data removed]",
      "text/plain": [
       "<Figure size 640x480 with 1 Axes>"
      ]
     },
     "metadata": {},
     "output_type": "display_data"
    }
   ],
   "source": [
    "sns.countplot(x='region', data=df, hue=\"region\")"
   ]
  },
  {
   "cell_type": "markdown",
   "id": "40f92f49-1196-4c80-b2ef-25fd7e22f8a1",
   "metadata": {},
   "source": [
    "* The purpose of creating a count plot like this is to visually represent the distribution of observations across different categories (regions in this case).\n",
    "*  Each bar in the plot represents the count of observations for a specific region."
   ]
  },
  {
   "cell_type": "code",
   "execution_count": 199,
   "id": "742988d2-65c9-49de-9f07-4c418020ce05",
   "metadata": {},
   "outputs": [
    {
     "data": {
      "text/plain": [
       "<Axes: xlabel='smoker', ylabel='count'>"
      ]
     },
     "execution_count": 199,
     "metadata": {},
     "output_type": "execute_result"
    },
    {
     "data": {
      "image/png": "[encoded data removed]",
      "text/plain": [
       "<Figure size 640x480 with 1 Axes>"
      ]
     },
     "metadata": {},
     "output_type": "display_data"
    }
   ],
   "source": [
    "sns.countplot(x='smoker', data=df, hue=\"smoker\")"
   ]
  },
  {
   "cell_type": "markdown",
   "id": "0ee6d6db-ad08-45e5-ba2e-29fcb70a5287",
   "metadata": {},
   "source": [
    "* This visualization helps to understand the distribution of smoking status within the dataset and allows for easy comparison of the counts of smokers and non-smokers."
   ]
  },
  {
   "cell_type": "markdown",
   "id": "405732d8-5ac1-4361-a9eb-a4e5f7f13fd7",
   "metadata": {},
   "source": [
    "\n",
    " ### Checking Outliers"
   ]
  },
  {
   "cell_type": "code",
   "execution_count": 9,
   "id": "57ea9049-ccb3-41c0-90ff-fcf1bbeed494",
   "metadata": {},
   "outputs": [
    {
     "data": {
      "text/plain": [
       "<Axes: >"
      ]
     },
     "execution_count": 9,
     "metadata": {},
     "output_type": "execute_result"
    },
    {
     "data": {
      "image/png": "[encoded data removed]",
      "text/plain": [
       "<Figure size 640x480 with 1 Axes>"
      ]
     },
     "metadata": {},
     "output_type": "display_data"
    }
   ],
   "source": [
    "df[\"age\"].plot.box()"
   ]
  },
  {
   "cell_type": "markdown",
   "id": "7a664932-99a2-4457-aa74-2f1c4395e67c",
   "metadata": {},
   "source": [
    "* Interpreting the box plot allows us to understand the central tendency, spread, and presence of outliers in the distribution of the \"age\" variable. "
   ]
  },
  {
   "cell_type": "markdown",
   "id": "87820675-adfb-4e30-a400-802f27d430ce",
   "metadata": {},
   "source": [
    "# Exploratory Data Analysis (EDA):\n",
    " \n",
    "* EDA is an approach to analyzing the data using visual techniques.\n",
    "* It is used to discover trends, and patterns, or to check assumptions with the help of statistical summaries and graphical representations.\n",
    "* While performing the EDA of this dataset we will try to look at what is the relation between the independent features that is how one affects the other."
   ]
  },
  {
   "cell_type": "code",
   "execution_count": 148,
   "id": "8692b203-d681-42a5-859a-05505d5c550f",
   "metadata": {},
   "outputs": [
    {
     "data": {
      "text/html": [
       "<div>\n",
       "<style scoped>\n",
       "    .dataframe tbody tr th:only-of-type {\n",
       "        vertical-align: middle;\n",
       "    }\n",
       "\n",
       "    .dataframe tbody tr th {\n",
       "        vertical-align: top;\n",
       "    }\n",
       "\n",
       "    .dataframe thead th {\n",
       "        text-align: right;\n",
       "    }\n",
       "</style>\n",
       "<table border=\"1\" class=\"dataframe\">\n",
       "  <thead>\n",
       "    <tr style=\"text-align: right;\">\n",
       "      <th></th>\n",
       "      <th>age</th>\n",
       "      <th>charges</th>\n",
       "    </tr>\n",
       "  </thead>\n",
       "  <tbody>\n",
       "    <tr>\n",
       "      <th>age</th>\n",
       "      <td>1.000000</td>\n",
       "      <td>0.298308</td>\n",
       "    </tr>\n",
       "    <tr>\n",
       "      <th>charges</th>\n",
       "      <td>0.298308</td>\n",
       "      <td>1.000000</td>\n",
       "    </tr>\n",
       "  </tbody>\n",
       "</table>\n",
       "</div>"
      ],
      "text/plain": [
       "              age   charges\n",
       "age      1.000000  0.298308\n",
       "charges  0.298308  1.000000"
      ]
     },
     "execution_count": 148,
     "metadata": {},
     "output_type": "execute_result"
    }
   ],
   "source": [
    "df[[\"age\", \"charges\"]].corr(method = \"pearson\")"
   ]
  },
  {
   "cell_type": "markdown",
   "id": "057d2484-4dc3-4d47-a510-c5abf709fe33",
   "metadata": {},
   "source": [
    "* A value of 1 indicates a perfect positive linear correlation (as one variable increases, the other variable also increases proportionally).\n",
    "\n",
    "* A value of -1 indicates a perfect negative linear correlation (as one variable increases, the other variable decreases proportionally).\n",
    "\n",
    "* A value close to 0 indicates little to no linear correlation between the variables.\n",
    "* The resulting correlation matrix will have the Pearson correlation coefficient between \"age\" and \"charges\" as its single entry. This coefficient quantifies the strength and direction of the linear relationship between the two variables.\n",
    "* Interpreting the correlation coefficient helps in understanding the association between the variables and can guide further analysis or modeling decisions."
   ]
  },
  {
   "cell_type": "code",
   "execution_count": 187,
   "id": "295c6eb3-c40b-4816-9a10-130ea36c8c44",
   "metadata": {},
   "outputs": [
    {
     "data": {
      "text/plain": [
       "sex\n",
       "male      675\n",
       "female    662\n",
       "Name: count, dtype: int64"
      ]
     },
     "execution_count": 187,
     "metadata": {},
     "output_type": "execute_result"
    }
   ],
   "source": [
    "df[\"sex\"].value_counts()"
   ]
  },
  {
   "cell_type": "markdown",
   "id": "9109fa81-3126-49f8-960d-05d6336b1a56",
   "metadata": {},
   "source": [
    "* It means that there are 662 occurrences of the value \"female\" and 675 occurrences of the value \"male\" in the \"sex\" column of the DataFrame df."
   ]
  },
  {
   "cell_type": "code",
   "execution_count": 188,
   "id": "38bd1555-e1a8-43bf-8c02-419acb160f6d",
   "metadata": {},
   "outputs": [
    {
     "data": {
      "text/plain": [
       "sex\n",
       "female    12569.578844\n",
       "male      13974.998864\n",
       "Name: charges, dtype: float64"
      ]
     },
     "execution_count": 188,
     "metadata": {},
     "output_type": "execute_result"
    }
   ],
   "source": [
    "df.groupby(\"sex\")[\"charges\"].mean()"
   ]
  },
  {
   "cell_type": "markdown",
   "id": "b26c001c-7ac8-46a1-82c1-013f40db4227",
   "metadata": {},
   "source": [
    "* The resulting output is a Series where the index represents the unique values in the \"sex\" column (\"male\" and \"female\"), and the values represent the mean charges for each group.\n",
    "* It means that the average medical charges for females (grouped by sex) is approximately  $12,569.58, and for males, it's  approximately $13,974.99."
   ]
  },
  {
   "cell_type": "code",
   "execution_count": 189,
   "id": "740d353d-f9a2-4b11-946d-55c6ee1d373f",
   "metadata": {},
   "outputs": [],
   "source": [
    "male = df[df[\"sex\"]==\"male\"].index\n",
    "female = df[df[\"sex\"] == \"female\"].index"
   ]
  },
  {
   "cell_type": "markdown",
   "id": "fd818748-b144-40d6-bbc5-ff5dba9723ca",
   "metadata": {},
   "source": [
    "* After executing these lines of code, male and female will contain the index labels of rows in the DataFrame df that correspond to males and females, respectively.\n",
    "* These variables can be further used for various purposes, such as indexing, filtering, or analysis based on gender categories."
   ]
  },
  {
   "cell_type": "code",
   "execution_count": 190,
   "id": "0aaef584-5722-4947-85c4-44719054b2cd",
   "metadata": {},
   "outputs": [],
   "source": [
    "female_sample = np.random.choice(female, 150)\n",
    "male_sample = np.random.choice(male, 150)"
   ]
  },
  {
   "cell_type": "markdown",
   "id": "d20c91bb-53c4-43bb-ab53-3da16508d1dd",
   "metadata": {},
   "source": [
    "* After executing these lines of code, female_sample and male_sample will contain randomly selected index labels of 150 females and 150 males, respectively, from the DataFrame df.\n",
    "  \n",
    "* These samples can be further used for various purposes, such as conducting statistical analyses, building models, or performing hypothesis testing on subsets of the data."
   ]
  },
  {
   "cell_type": "code",
   "execution_count": 191,
   "id": "90f4ed25-6fc4-4bbf-be45-c463cd2cb962",
   "metadata": {},
   "outputs": [],
   "source": [
    "female_sample = df.iloc[female_sample][\"charges\"]\n",
    "male_sample = df.iloc[male_sample][\"charges\"]"
   ]
  },
  {
   "cell_type": "markdown",
   "id": "6fd096f0-dc6a-4117-ac05-39299fec3b94",
   "metadata": {},
   "source": [
    "* After executing these lines of code, female_sample and male_sample will contain samples of medical charges for 150 randomly selected females and 150 randomly selected males, respectively, from the DataFrame df. \n",
    "* These samples can be further analyzed or compared to understand any differences or similarities in medical charges between genders."
   ]
  },
  {
   "cell_type": "markdown",
   "id": "9bcf242e-8a5c-48f2-bef9-d114806214de",
   "metadata": {},
   "source": [
    "f_mean = female_sample.mean()\n",
    "f_std = female_sample.std()\n",
    "m_mean = male_sample.mean()\n",
    "m_std = male_sample.std()\n",
    "f_mean, f_std , m_mean, m_std"
   ]
  },
  {
   "cell_type": "markdown",
   "id": "e45f94b8-5e8e-4624-ae2f-7ff0d92cecef",
   "metadata": {},
   "source": [
    "* After executing these lines of code, f_mean will contain the mean medical charges for the female sample,\n",
    "* f_std will contain the standard deviation of medical charges for the female sample,\n",
    "* m_mean will contain the mean medical charges for the male sample,\n",
    "* and m_std will contain the standard deviation of medical charges for the male sample.\n",
    "* These statistical measures provide insights into the central tendency and variability of medical charges within each gender category."
   ]
  },
  {
   "cell_type": "code",
   "execution_count": 192,
   "id": "c472ebcb-a645-425b-ad09-8dec5689d2ca",
   "metadata": {},
   "outputs": [],
   "source": [
    "n = 150"
   ]
  },
  {
   "cell_type": "markdown",
   "id": "bf8def74-56be-4084-b9a6-9f4c8c333e99",
   "metadata": {},
   "source": [
    "* In summary, n = 150 specifies the sample size for the random samples of medical charges, indicating that each sample contains 150 observations.\n",
    "* This sample size was chosen based on considerations relevant to the specific analysis or investigation being conducted."
   ]
  },
  {
   "cell_type": "markdown",
   "id": "46769f6c-d3d0-460a-9f8d-1316caabe41c",
   "metadata": {},
   "source": [
    "## z- test for p samples"
   ]
  },
  {
   "cell_type": "code",
   "execution_count": 193,
   "id": "b94dda59-3e4a-4194-a224-af0eac1250bb",
   "metadata": {},
   "outputs": [],
   "source": [
    "p_val = (f_mean-m_mean)/ np.sqrt((f_std**2/n)+(m_std**2/n))"
   ]
  },
  {
   "cell_type": "markdown",
   "id": "af54d6e0-e69d-405c-895b-1e23f741203c",
   "metadata": {},
   "source": [
    "* p_val = (f_mean - m_mean) / np.sqrt((f_std**2/n) + (m_std**2/n)): This expression calculates the test statistic, which is the difference in means divided by the standard error of the difference.\n",
    "* This test statistic is typically used in hypothesis testing to determine the significance of the observed difference between groups.\n",
    "* The resulting p_val represents the test statistic, which is commonly used in hypothesis testing, particularly in the context of comparing means between two groups.\n",
    "*  It quantifies the strength of evidence against the null hypothesis that there is no difference in means between the two groups.\n",
    "*  A smaller p-value indicates stronger evidence against the null hypothesis, suggesting that the observed difference is unlikely to have occurred by random chance alone."
   ]
  },
  {
   "cell_type": "code",
   "execution_count": 194,
   "id": "ecdf06f8-611f-4e8e-ad9e-916a815d0f1a",
   "metadata": {},
   "outputs": [
    {
     "data": {
      "text/plain": [
       "0.1293595033388648"
      ]
     },
     "execution_count": 194,
     "metadata": {},
     "output_type": "execute_result"
    }
   ],
   "source": [
    "p_val"
   ]
  },
  {
   "cell_type": "markdown",
   "id": "eda8621e-8b5a-4550-9ea1-e583100a9d66",
   "metadata": {},
   "source": [
    "* After obtaining the p-value, it can be compared to a pre-defined significance level (e.g., 0.05) to make a decision about whether to reject or fail to reject the null hypothesis.\n",
    "*  If the p-value is less than the significance level, the null hypothesis is typically rejected, indicating that there is evidence to support the alternative hypothesis that there is a difference in means between the groups.\n",
    "*   If the p-value is greater than or equal to the significance level, the null hypothesis is not rejected, suggesting that there is insufficient evidence to conclude that there is a difference in means between the groups."
   ]
  },
  {
   "cell_type": "markdown",
   "id": "0397f1b0-a6e8-4a97-96e1-7a4c0972de84",
   "metadata": {},
   "source": [
    "1.55 is less than alpha (1.65) so this mean difference is significant."
   ]
  },
  {
   "cell_type": "raw",
   "id": "61a45b6a-37d8-4726-a68f-6f2750d0aaaa",
   "metadata": {},
   "source": []
  },
  {
   "cell_type": "code",
   "execution_count": 94,
   "id": "56e8292b-008c-4913-9db4-7ff322acc5be",
   "metadata": {},
   "outputs": [
    {
     "data": {
      "text/plain": [
       "<Axes: >"
      ]
     },
     "execution_count": 94,
     "metadata": {},
     "output_type": "execute_result"
    },
    {
     "data": {
      "image/png": "[encoded data removed]",
      "text/plain": [
       "<Figure size 640x480 with 1 Axes>"
      ]
     },
     "metadata": {},
     "output_type": "display_data"
    }
   ],
   "source": [
    "df[\"bmi\"].plot.box()"
   ]
  },
  {
   "cell_type": "markdown",
   "id": "e8c26e72-bc60-4299-b55f-619331d2a86e",
   "metadata": {},
   "source": [
    "* Interpreting the box plot allows you to understand the central tendency, spread, and presence of outliers in the distribution of the \"bmi\" variable.\n",
    "* It is a valuable visualization tool for exploratory data analysis and identifying any unusual or unexpected patterns in the data related to Body Mass Index."
   ]
  },
  {
   "cell_type": "code",
   "execution_count": 95,
   "id": "bfadde1e-3ba3-4c1b-8e51-c0f393fd7fe3",
   "metadata": {},
   "outputs": [
    {
     "data": {
      "text/html": [
       "<div>\n",
       "<style scoped>\n",
       "    .dataframe tbody tr th:only-of-type {\n",
       "        vertical-align: middle;\n",
       "    }\n",
       "\n",
       "    .dataframe tbody tr th {\n",
       "        vertical-align: top;\n",
       "    }\n",
       "\n",
       "    .dataframe thead th {\n",
       "        text-align: right;\n",
       "    }\n",
       "</style>\n",
       "<table border=\"1\" class=\"dataframe\">\n",
       "  <thead>\n",
       "    <tr style=\"text-align: right;\">\n",
       "      <th></th>\n",
       "      <th>bmi</th>\n",
       "      <th>charges</th>\n",
       "    </tr>\n",
       "  </thead>\n",
       "  <tbody>\n",
       "    <tr>\n",
       "      <th>bmi</th>\n",
       "      <td>1.000000</td>\n",
       "      <td>0.198401</td>\n",
       "    </tr>\n",
       "    <tr>\n",
       "      <th>charges</th>\n",
       "      <td>0.198401</td>\n",
       "      <td>1.000000</td>\n",
       "    </tr>\n",
       "  </tbody>\n",
       "</table>\n",
       "</div>"
      ],
      "text/plain": [
       "              bmi   charges\n",
       "bmi      1.000000  0.198401\n",
       "charges  0.198401  1.000000"
      ]
     },
     "execution_count": 95,
     "metadata": {},
     "output_type": "execute_result"
    }
   ],
   "source": [
    "df[[\"bmi\", \"charges\"]].corr(method = \"pearson\")"
   ]
  },
  {
   "cell_type": "markdown",
   "id": "810a321b-282f-47f3-afbf-94fa4c6b45e0",
   "metadata": {},
   "source": [
    "* The resulting correlation matrix will have the Pearson correlation coefficient between \"bmi\" and \"charges\" as its single entry.\n",
    "* This coefficient quantifies the strength and direction of the linear relationship between the two variables.\n",
    "* If the correlation coefficient is positive and close to 1, it indicates that as BMI increases, charges tend to increase as well.\n",
    "*  If the correlation coefficient is negative and close to -1, it suggests that as BMI increases, charges tend to decrease.\n",
    "* If the correlation coefficient is close to 0, it indicates little to no linear relationship between BMI and charges.\n",
    "* Interpreting the correlation coefficient helps in understanding the association between the two variables and can guide further analysis or modeling decisions."
   ]
  },
  {
   "cell_type": "code",
   "execution_count": 96,
   "id": "b8380f89-ff77-47dc-ba9b-1fc76e419dc5",
   "metadata": {},
   "outputs": [
    {
     "data": {
      "text/plain": [
       "children\n",
       "0    573\n",
       "1    324\n",
       "2    240\n",
       "3    157\n",
       "4     25\n",
       "5     18\n",
       "Name: count, dtype: int64"
      ]
     },
     "execution_count": 96,
     "metadata": {},
     "output_type": "execute_result"
    }
   ],
   "source": [
    "df[\"children\"].value_counts()"
   ]
  },
  {
   "cell_type": "markdown",
   "id": "1aa4a5a0-d4ca-41c5-86a6-1505893443f3",
   "metadata": {},
   "source": [
    "* The resulting output provides the count of occurrences for each unique value in the \"children\" column.\n",
    "* It means that there are 573 individuals with 0 children, 324 individuals with 1 child, 240 individuals with 2 children, and so on.\n",
    "* This type of analysis is useful for understanding the distribution of categorical variables in the dataset, which can help in data exploration and decision-making processes.\n",
    "* It provides insights into the composition of the dataset and the relative frequencies of different categories within a particular variable."
   ]
  },
  {
   "cell_type": "code",
   "execution_count": 97,
   "id": "037ce19f-43e3-4911-b150-804b521a440d",
   "metadata": {},
   "outputs": [
    {
     "data": {
      "text/html": [
       "<div>\n",
       "<style scoped>\n",
       "    .dataframe tbody tr th:only-of-type {\n",
       "        vertical-align: middle;\n",
       "    }\n",
       "\n",
       "    .dataframe tbody tr th {\n",
       "        vertical-align: top;\n",
       "    }\n",
       "\n",
       "    .dataframe thead th {\n",
       "        text-align: right;\n",
       "    }\n",
       "</style>\n",
       "<table border=\"1\" class=\"dataframe\">\n",
       "  <thead>\n",
       "    <tr style=\"text-align: right;\">\n",
       "      <th></th>\n",
       "      <th>children</th>\n",
       "      <th>charges</th>\n",
       "    </tr>\n",
       "  </thead>\n",
       "  <tbody>\n",
       "    <tr>\n",
       "      <th>children</th>\n",
       "      <td>1.000000</td>\n",
       "      <td>0.067389</td>\n",
       "    </tr>\n",
       "    <tr>\n",
       "      <th>charges</th>\n",
       "      <td>0.067389</td>\n",
       "      <td>1.000000</td>\n",
       "    </tr>\n",
       "  </tbody>\n",
       "</table>\n",
       "</div>"
      ],
      "text/plain": [
       "          children   charges\n",
       "children  1.000000  0.067389\n",
       "charges   0.067389  1.000000"
      ]
     },
     "execution_count": 97,
     "metadata": {},
     "output_type": "execute_result"
    }
   ],
   "source": [
    "df[[\"children\", \"charges\"]].corr(method = \"pearson\")"
   ]
  },
  {
   "cell_type": "markdown",
   "id": "7b8c4a2d-b87f-4ab0-8089-4f037fd46c0f",
   "metadata": {},
   "source": [
    "* The resulting correlation matrix will have the Pearson correlation coefficient between \"children\" and \"charges\" as its single entry.\n",
    "* This coefficient quantifies the strength and direction of the linear relationship between the two variables.\n",
    "* If the correlation coefficient is positive and close to 1, it indicates that as the number of children increases, charges tend to increase as well.\n",
    "*  If the correlation coefficient is negative and close to -1, it suggests that as the number of children increases, charges tend to decrease.\n",
    "*  If the correlation coefficient is close to 0, it indicates little to no linear relationship between the number of children and charges.\n",
    "\n",
    "Interpreting the correlation coefficient helps in understanding the association between the two variables and can guide further analysis or modeling decision"
   ]
  },
  {
   "cell_type": "code",
   "execution_count": 98,
   "id": "104e0ee6-c832-44f2-a7de-b3fb4e1a17ba",
   "metadata": {},
   "outputs": [
    {
     "data": {
      "text/plain": [
       "smoker\n",
       "no     1063\n",
       "yes     274\n",
       "Name: count, dtype: int64"
      ]
     },
     "execution_count": 98,
     "metadata": {},
     "output_type": "execute_result"
    }
   ],
   "source": [
    "df[\"smoker\"].value_counts()"
   ]
  },
  {
   "cell_type": "markdown",
   "id": "e0c789c2-22f1-410d-8678-6decbd9f9f1b",
   "metadata": {},
   "source": [
    "* The resulting output provides the count of occurrences for each unique value in the \"smoker\" column.\n",
    "* It means that there are 1063 individuals classified as non-smokers and 274 individuals classified as smokers in the dataset.\n",
    "* This type of analysis is useful for understanding the distribution of categorical variables in the dataset, which can help in data exploration and decision-making processes.\n",
    "*  It provides insights into the composition of the dataset and the relative frequencies of different categories within a particular variable, in this case, the smoking status of individuals."
   ]
  },
  {
   "cell_type": "code",
   "execution_count": 99,
   "id": "4244d7f5-0396-4f39-86ef-eab75bab1c74",
   "metadata": {},
   "outputs": [
    {
     "data": {
      "text/plain": [
       "smoker\n",
       "no      8440.660307\n",
       "yes    32050.231832\n",
       "Name: charges, dtype: float64"
      ]
     },
     "execution_count": 99,
     "metadata": {},
     "output_type": "execute_result"
    }
   ],
   "source": [
    "df.groupby(\"smoker\")[\"charges\"].mean()"
   ]
  },
  {
   "cell_type": "markdown",
   "id": "ca4a50df-773c-452f-8026-9ded9b2e193b",
   "metadata": {},
   "source": [
    "* The resulting output is a Series where the index represents the unique values in the \"smoker\" column (\"yes\" and \"no\"), and the values represent the mean charges for each group.\n",
    "* It means that the average medical charges for non-smokers (grouped by smoking status) is $8440.660307, and for smokers, it's $32050.231832.\n",
    "* This type of analysis helps in understanding the relationship between categorical variables (in this case, \"smoker\") and numerical variables (in this case, \"charges\").\n",
    "*  It provides insights into how the mean value of a numerical variable varies across different categories of a categorical variable, allowing for comparisons and further exploration of the data.\n",
    "*  Specifically, in this example, it provides insight into the difference in medical charges between smokers and non-smokers."
   ]
  },
  {
   "cell_type": "code",
   "execution_count": 100,
   "id": "0c498a46-4f00-47c4-8072-584659dd9f3b",
   "metadata": {},
   "outputs": [
    {
     "data": {
      "text/plain": [
       "region\n",
       "northeast    13406.384516\n",
       "northwest    12450.840844\n",
       "southeast    14735.411438\n",
       "southwest    12346.937377\n",
       "Name: charges, dtype: float64"
      ]
     },
     "execution_count": 100,
     "metadata": {},
     "output_type": "execute_result"
    }
   ],
   "source": [
    "df.groupby(\"region\")[\"charges\"].mean()"
   ]
  },
  {
   "cell_type": "markdown",
   "id": "054db7d1-db31-44d1-96d0-49c9ac7c39ef",
   "metadata": {},
   "source": [
    "* The resulting output is a Series where the index represents the unique values in the \"region\" column (e.g., \"northeast\", \"northwest\", \"southeast\", \"southwest\"), and the values represent the mean charges for each group.\n",
    "* It means that the average medical charges for individuals in the northeast region is $13406.384516, in the northwest region is $12450.840844, in the southeast region is $14735.411, and in the southwest region is $1246.9377.\n",
    "* This type of analysis helps in understanding the relationship between categorical variables (in this case, \"region\") and numerical variables (in this case, \"charges\").\n",
    "*  It provides insights into how the mean value of a numerical variable varies across different categories of a categorical variable, allowing for comparisons and further exploration of the data based on geographical regions.\n",
    "\n",
    "\n",
    "\n",
    "\n",
    "\n",
    "\n"
   ]
  },
  {
   "cell_type": "code",
   "execution_count": 101,
   "id": "35f98f37-d47e-4f71-b85a-866920328cfb",
   "metadata": {},
   "outputs": [],
   "source": [
    "new_df = df[[\"age\", \"bmi\", \"children\"]]"
   ]
  },
  {
   "cell_type": "markdown",
   "id": "e528cc92-2f3e-45f4-bdb4-8686588b6596",
   "metadata": {},
   "source": [
    "* After executing this line of code, new_df will contain a subset of the original DataFrame df with only the columns \"age\", \"bmi\", and \"children\".\n",
    "* This operation is useful for creating a smaller DataFrame focused on specific features of interest, which can be used for further analysis or modeling tasks."
   ]
  },
  {
   "cell_type": "code",
   "execution_count": 102,
   "id": "917c819b-0262-45d7-8e7f-469e6f042a32",
   "metadata": {},
   "outputs": [],
   "source": [
    "scaler = StandardScaler()"
   ]
  },
  {
   "cell_type": "markdown",
   "id": "c98d3119-e39a-4941-ab33-1a2c0301921b",
   "metadata": {},
   "source": [
    "* scaler = StandardScaler(): This line initializes a StandardScaler object named scaler.\n",
    "* This object will be used to scale the numerical features in the dataset.\n",
    "* After this line of code is executed, the scaler object is ready to transform the data by applying standardization.\n",
    "* The StandardScaler object contains methods like fit() and transform() to perform the scaling process.\n",
    "* This code would fit the scaler to the data (calculating mean and standard deviation) and then transform the data, applying the standardization process. The resulting scaled_data would be a numpy array with the scaled features.\n",
    "\n",
    "* Standardizing features is important in many machine learning algorithms, particularly those that are distance-based (e.g., k-nearest neighbors, support vector machines) or gradient-based (e.g., logistic regression, neural networks).\n",
    "* It ensures that features with larger scales do not dominate the learning process and helps algorithms converge faster."
   ]
  },
  {
   "cell_type": "code",
   "execution_count": 103,
   "id": "49b06efb-1810-4b72-91a7-c3743d98e2c0",
   "metadata": {},
   "outputs": [],
   "source": [
    "Scaled_data = scaler.fit_transform(new_df)"
   ]
  },
  {
   "cell_type": "markdown",
   "id": "1ff51ed1-a995-4d3a-91e3-7a7d8d514bdb",
   "metadata": {},
   "source": [
    "* After executing this line of code, Scaled_data will contain the standardized version of the features in new_df.\n",
    "* The standardized data will have a mean of approximately 0 and a standard deviation of 1 for each feature, ensuring that all features are on a similar scale.\n",
    "*  This standardized data is often used as input for machine learning algorithms, particularly those that are sensitive to feature scaling, such as support vector machines, k-nearest neighbors, and neural networks."
   ]
  },
  {
   "cell_type": "code",
   "execution_count": 104,
   "id": "215935ce-1732-4b50-b00d-f935d899d33e",
   "metadata": {},
   "outputs": [
    {
     "data": {
      "text/plain": [
       "array([[-1.44041773, -0.45315959, -0.90923416],\n",
       "       [-1.51164747,  0.50942165, -0.07944162],\n",
       "       [-0.79935006,  0.3831546 ,  1.58014347],\n",
       "       ...,\n",
       "       [-1.51164747,  1.01448983, -0.90923416],\n",
       "       [-1.29795825, -0.79752426, -0.90923416],\n",
       "       [ 1.55123139, -0.26129928, -0.90923416]])"
      ]
     },
     "execution_count": 104,
     "metadata": {},
     "output_type": "execute_result"
    }
   ],
   "source": [
    "Scaled_data"
   ]
  },
  {
   "cell_type": "markdown",
   "id": "8d5ae51c-c125-4d0f-b804-2b1d53040296",
   "metadata": {},
   "source": [
    "* Scaled_data contains the standardized version of the features in new_df, and it is often used as input for machine learning models to improve their performance and stability."
   ]
  },
  {
   "cell_type": "code",
   "execution_count": 105,
   "id": "ddf9bf76-5c3b-4d7f-af07-9516bd0ebe02",
   "metadata": {},
   "outputs": [],
   "source": [
    "dummies = pd.get_dummies(df[[\"sex\", \"region\", \"smoker\"]],drop_first=True, dtype=float)"
   ]
  },
  {
   "cell_type": "markdown",
   "id": "a68f38ee-b37e-407b-947e-6127f85cbd60",
   "metadata": {},
   "source": [
    "* After executing this line of code, the DataFrame dummies will contain dummy variables for the categorical features \"sex\", \"region\", and \"smoker\", with the first category dropped for each feature.\n",
    "*  These dummy variables are binary indicators representing the presence or absence of each category for each observation in the original dataset.\n",
    "*  These dummy variables are often used in machine learning models that require numerical input, allowing us to include categorical features in the analysis.\n",
    "*   They are particularly useful in scenarios where categorical variables do not have a natural ordering, such as \"sex\" and \"smoker\" in this case.\n",
    "\n",
    "\n",
    "\n",
    "\n",
    "\n",
    "\n"
   ]
  },
  {
   "cell_type": "code",
   "execution_count": 106,
   "id": "e50ac424-915c-494a-80b7-4eb60b26098a",
   "metadata": {},
   "outputs": [
    {
     "data": {
      "text/html": [
       "<div>\n",
       "<style scoped>\n",
       "    .dataframe tbody tr th:only-of-type {\n",
       "        vertical-align: middle;\n",
       "    }\n",
       "\n",
       "    .dataframe tbody tr th {\n",
       "        vertical-align: top;\n",
       "    }\n",
       "\n",
       "    .dataframe thead th {\n",
       "        text-align: right;\n",
       "    }\n",
       "</style>\n",
       "<table border=\"1\" class=\"dataframe\">\n",
       "  <thead>\n",
       "    <tr style=\"text-align: right;\">\n",
       "      <th></th>\n",
       "      <th>sex_male</th>\n",
       "      <th>region_northwest</th>\n",
       "      <th>region_southeast</th>\n",
       "      <th>region_southwest</th>\n",
       "      <th>smoker_yes</th>\n",
       "    </tr>\n",
       "  </thead>\n",
       "  <tbody>\n",
       "    <tr>\n",
       "      <th>0</th>\n",
       "      <td>0.0</td>\n",
       "      <td>0.0</td>\n",
       "      <td>0.0</td>\n",
       "      <td>1.0</td>\n",
       "      <td>1.0</td>\n",
       "    </tr>\n",
       "    <tr>\n",
       "      <th>1</th>\n",
       "      <td>1.0</td>\n",
       "      <td>0.0</td>\n",
       "      <td>1.0</td>\n",
       "      <td>0.0</td>\n",
       "      <td>0.0</td>\n",
       "    </tr>\n",
       "    <tr>\n",
       "      <th>2</th>\n",
       "      <td>1.0</td>\n",
       "      <td>0.0</td>\n",
       "      <td>1.0</td>\n",
       "      <td>0.0</td>\n",
       "      <td>0.0</td>\n",
       "    </tr>\n",
       "    <tr>\n",
       "      <th>3</th>\n",
       "      <td>1.0</td>\n",
       "      <td>1.0</td>\n",
       "      <td>0.0</td>\n",
       "      <td>0.0</td>\n",
       "      <td>0.0</td>\n",
       "    </tr>\n",
       "    <tr>\n",
       "      <th>4</th>\n",
       "      <td>1.0</td>\n",
       "      <td>1.0</td>\n",
       "      <td>0.0</td>\n",
       "      <td>0.0</td>\n",
       "      <td>0.0</td>\n",
       "    </tr>\n",
       "    <tr>\n",
       "      <th>...</th>\n",
       "      <td>...</td>\n",
       "      <td>...</td>\n",
       "      <td>...</td>\n",
       "      <td>...</td>\n",
       "      <td>...</td>\n",
       "    </tr>\n",
       "    <tr>\n",
       "      <th>1333</th>\n",
       "      <td>1.0</td>\n",
       "      <td>1.0</td>\n",
       "      <td>0.0</td>\n",
       "      <td>0.0</td>\n",
       "      <td>0.0</td>\n",
       "    </tr>\n",
       "    <tr>\n",
       "      <th>1334</th>\n",
       "      <td>0.0</td>\n",
       "      <td>0.0</td>\n",
       "      <td>0.0</td>\n",
       "      <td>0.0</td>\n",
       "      <td>0.0</td>\n",
       "    </tr>\n",
       "    <tr>\n",
       "      <th>1335</th>\n",
       "      <td>0.0</td>\n",
       "      <td>0.0</td>\n",
       "      <td>1.0</td>\n",
       "      <td>0.0</td>\n",
       "      <td>0.0</td>\n",
       "    </tr>\n",
       "    <tr>\n",
       "      <th>1336</th>\n",
       "      <td>0.0</td>\n",
       "      <td>0.0</td>\n",
       "      <td>0.0</td>\n",
       "      <td>1.0</td>\n",
       "      <td>0.0</td>\n",
       "    </tr>\n",
       "    <tr>\n",
       "      <th>1337</th>\n",
       "      <td>0.0</td>\n",
       "      <td>1.0</td>\n",
       "      <td>0.0</td>\n",
       "      <td>0.0</td>\n",
       "      <td>1.0</td>\n",
       "    </tr>\n",
       "  </tbody>\n",
       "</table>\n",
       "<p>1337 rows × 5 columns</p>\n",
       "</div>"
      ],
      "text/plain": [
       "      sex_male  region_northwest  region_southeast  region_southwest  \\\n",
       "0          0.0               0.0               0.0               1.0   \n",
       "1          1.0               0.0               1.0               0.0   \n",
       "2          1.0               0.0               1.0               0.0   \n",
       "3          1.0               1.0               0.0               0.0   \n",
       "4          1.0               1.0               0.0               0.0   \n",
       "...        ...               ...               ...               ...   \n",
       "1333       1.0               1.0               0.0               0.0   \n",
       "1334       0.0               0.0               0.0               0.0   \n",
       "1335       0.0               0.0               1.0               0.0   \n",
       "1336       0.0               0.0               0.0               1.0   \n",
       "1337       0.0               1.0               0.0               0.0   \n",
       "\n",
       "      smoker_yes  \n",
       "0            1.0  \n",
       "1            0.0  \n",
       "2            0.0  \n",
       "3            0.0  \n",
       "4            0.0  \n",
       "...          ...  \n",
       "1333         0.0  \n",
       "1334         0.0  \n",
       "1335         0.0  \n",
       "1336         0.0  \n",
       "1337         1.0  \n",
       "\n",
       "[1337 rows x 5 columns]"
      ]
     },
     "execution_count": 106,
     "metadata": {},
     "output_type": "execute_result"
    }
   ],
   "source": [
    "dummies"
   ]
  },
  {
   "cell_type": "code",
   "execution_count": 107,
   "id": "a24de177-5ab2-4fd9-b952-15262060d6a8",
   "metadata": {},
   "outputs": [
    {
     "data": {
      "text/html": [
       "<div>\n",
       "<style scoped>\n",
       "    .dataframe tbody tr th:only-of-type {\n",
       "        vertical-align: middle;\n",
       "    }\n",
       "\n",
       "    .dataframe tbody tr th {\n",
       "        vertical-align: top;\n",
       "    }\n",
       "\n",
       "    .dataframe thead th {\n",
       "        text-align: right;\n",
       "    }\n",
       "</style>\n",
       "<table border=\"1\" class=\"dataframe\">\n",
       "  <thead>\n",
       "    <tr style=\"text-align: right;\">\n",
       "      <th></th>\n",
       "      <th>age</th>\n",
       "      <th>bmi</th>\n",
       "      <th>children</th>\n",
       "    </tr>\n",
       "  </thead>\n",
       "  <tbody>\n",
       "    <tr>\n",
       "      <th>0</th>\n",
       "      <td>-1.440418</td>\n",
       "      <td>-0.453160</td>\n",
       "      <td>-0.909234</td>\n",
       "    </tr>\n",
       "    <tr>\n",
       "      <th>1</th>\n",
       "      <td>-1.511647</td>\n",
       "      <td>0.509422</td>\n",
       "      <td>-0.079442</td>\n",
       "    </tr>\n",
       "    <tr>\n",
       "      <th>2</th>\n",
       "      <td>-0.799350</td>\n",
       "      <td>0.383155</td>\n",
       "      <td>1.580143</td>\n",
       "    </tr>\n",
       "    <tr>\n",
       "      <th>3</th>\n",
       "      <td>-0.443201</td>\n",
       "      <td>-1.305052</td>\n",
       "      <td>-0.909234</td>\n",
       "    </tr>\n",
       "    <tr>\n",
       "      <th>4</th>\n",
       "      <td>-0.514431</td>\n",
       "      <td>-0.292456</td>\n",
       "      <td>-0.909234</td>\n",
       "    </tr>\n",
       "    <tr>\n",
       "      <th>...</th>\n",
       "      <td>...</td>\n",
       "      <td>...</td>\n",
       "      <td>...</td>\n",
       "    </tr>\n",
       "    <tr>\n",
       "      <th>1332</th>\n",
       "      <td>0.767704</td>\n",
       "      <td>0.050269</td>\n",
       "      <td>1.580143</td>\n",
       "    </tr>\n",
       "    <tr>\n",
       "      <th>1333</th>\n",
       "      <td>-1.511647</td>\n",
       "      <td>0.206053</td>\n",
       "      <td>-0.909234</td>\n",
       "    </tr>\n",
       "    <tr>\n",
       "      <th>1334</th>\n",
       "      <td>-1.511647</td>\n",
       "      <td>1.014490</td>\n",
       "      <td>-0.909234</td>\n",
       "    </tr>\n",
       "    <tr>\n",
       "      <th>1335</th>\n",
       "      <td>-1.297958</td>\n",
       "      <td>-0.797524</td>\n",
       "      <td>-0.909234</td>\n",
       "    </tr>\n",
       "    <tr>\n",
       "      <th>1336</th>\n",
       "      <td>1.551231</td>\n",
       "      <td>-0.261299</td>\n",
       "      <td>-0.909234</td>\n",
       "    </tr>\n",
       "  </tbody>\n",
       "</table>\n",
       "<p>1337 rows × 3 columns</p>\n",
       "</div>"
      ],
      "text/plain": [
       "           age       bmi  children\n",
       "0    -1.440418 -0.453160 -0.909234\n",
       "1    -1.511647  0.509422 -0.079442\n",
       "2    -0.799350  0.383155  1.580143\n",
       "3    -0.443201 -1.305052 -0.909234\n",
       "4    -0.514431 -0.292456 -0.909234\n",
       "...        ...       ...       ...\n",
       "1332  0.767704  0.050269  1.580143\n",
       "1333 -1.511647  0.206053 -0.909234\n",
       "1334 -1.511647  1.014490 -0.909234\n",
       "1335 -1.297958 -0.797524 -0.909234\n",
       "1336  1.551231 -0.261299 -0.909234\n",
       "\n",
       "[1337 rows x 3 columns]"
      ]
     },
     "execution_count": 107,
     "metadata": {},
     "output_type": "execute_result"
    }
   ],
   "source": [
    "Scaled_df = pd.DataFrame(Scaled_data, columns=[\"age\", \"bmi\", \"children\"])\n",
    "Scaled_df"
   ]
  },
  {
   "cell_type": "markdown",
   "id": "ce3833b8-96f9-4cba-8b3a-f72e3e4f2ac6",
   "metadata": {},
   "source": [
    "* After executing this line of code, Scaled_df will be a DataFrame containing the standardized features \"age\", \"bmi\", and \"children\", with the specified column names.\n",
    "* Each column will contain the standardized values of the corresponding feature, ensuring that all features are on a similar scale with a mean of approximately 0 and a standard deviation of 1.\n",
    "\n",
    "* This standardized DataFrame can be used as input for machine learning models or further analysis, particularly those that perform better when features are on similar scales.\n",
    "*  Standardization helps to avoid issues where certain features dominate the learning process due to differences in their scales.\n",
    "\n",
    "\n",
    "\n",
    "\n",
    "\n",
    "\n"
   ]
  },
  {
   "cell_type": "markdown",
   "id": "815eb22a-666d-4387-9394-c5aef21bead9",
   "metadata": {},
   "source": [
    "# Split Data into Training and Testing Sets:"
   ]
  },
  {
   "cell_type": "code",
   "execution_count": 108,
   "id": "379255a1-07b9-4d9c-8b88-786f103e40cc",
   "metadata": {},
   "outputs": [],
   "source": [
    "x = pd.concat([dummies,Scaled_df], axis = 1).dropna().reset_index(drop = True)"
   ]
  },
  {
   "cell_type": "code",
   "execution_count": 109,
   "id": "b0b0241f-7b46-49e4-b903-233081021f00",
   "metadata": {},
   "outputs": [
    {
     "data": {
      "text/html": [
       "<div>\n",
       "<style scoped>\n",
       "    .dataframe tbody tr th:only-of-type {\n",
       "        vertical-align: middle;\n",
       "    }\n",
       "\n",
       "    .dataframe tbody tr th {\n",
       "        vertical-align: top;\n",
       "    }\n",
       "\n",
       "    .dataframe thead th {\n",
       "        text-align: right;\n",
       "    }\n",
       "</style>\n",
       "<table border=\"1\" class=\"dataframe\">\n",
       "  <thead>\n",
       "    <tr style=\"text-align: right;\">\n",
       "      <th></th>\n",
       "      <th>sex_male</th>\n",
       "      <th>region_northwest</th>\n",
       "      <th>region_southeast</th>\n",
       "      <th>region_southwest</th>\n",
       "      <th>smoker_yes</th>\n",
       "      <th>age</th>\n",
       "      <th>bmi</th>\n",
       "      <th>children</th>\n",
       "    </tr>\n",
       "  </thead>\n",
       "  <tbody>\n",
       "    <tr>\n",
       "      <th>0</th>\n",
       "      <td>0.0</td>\n",
       "      <td>0.0</td>\n",
       "      <td>0.0</td>\n",
       "      <td>1.0</td>\n",
       "      <td>1.0</td>\n",
       "      <td>-1.440418</td>\n",
       "      <td>-0.453160</td>\n",
       "      <td>-0.909234</td>\n",
       "    </tr>\n",
       "    <tr>\n",
       "      <th>1</th>\n",
       "      <td>1.0</td>\n",
       "      <td>0.0</td>\n",
       "      <td>1.0</td>\n",
       "      <td>0.0</td>\n",
       "      <td>0.0</td>\n",
       "      <td>-1.511647</td>\n",
       "      <td>0.509422</td>\n",
       "      <td>-0.079442</td>\n",
       "    </tr>\n",
       "    <tr>\n",
       "      <th>2</th>\n",
       "      <td>1.0</td>\n",
       "      <td>0.0</td>\n",
       "      <td>1.0</td>\n",
       "      <td>0.0</td>\n",
       "      <td>0.0</td>\n",
       "      <td>-0.799350</td>\n",
       "      <td>0.383155</td>\n",
       "      <td>1.580143</td>\n",
       "    </tr>\n",
       "    <tr>\n",
       "      <th>3</th>\n",
       "      <td>1.0</td>\n",
       "      <td>1.0</td>\n",
       "      <td>0.0</td>\n",
       "      <td>0.0</td>\n",
       "      <td>0.0</td>\n",
       "      <td>-0.443201</td>\n",
       "      <td>-1.305052</td>\n",
       "      <td>-0.909234</td>\n",
       "    </tr>\n",
       "    <tr>\n",
       "      <th>4</th>\n",
       "      <td>1.0</td>\n",
       "      <td>1.0</td>\n",
       "      <td>0.0</td>\n",
       "      <td>0.0</td>\n",
       "      <td>0.0</td>\n",
       "      <td>-0.514431</td>\n",
       "      <td>-0.292456</td>\n",
       "      <td>-0.909234</td>\n",
       "    </tr>\n",
       "    <tr>\n",
       "      <th>...</th>\n",
       "      <td>...</td>\n",
       "      <td>...</td>\n",
       "      <td>...</td>\n",
       "      <td>...</td>\n",
       "      <td>...</td>\n",
       "      <td>...</td>\n",
       "      <td>...</td>\n",
       "      <td>...</td>\n",
       "    </tr>\n",
       "    <tr>\n",
       "      <th>1331</th>\n",
       "      <td>0.0</td>\n",
       "      <td>0.0</td>\n",
       "      <td>0.0</td>\n",
       "      <td>1.0</td>\n",
       "      <td>0.0</td>\n",
       "      <td>0.767704</td>\n",
       "      <td>0.050269</td>\n",
       "      <td>1.580143</td>\n",
       "    </tr>\n",
       "    <tr>\n",
       "      <th>1332</th>\n",
       "      <td>1.0</td>\n",
       "      <td>1.0</td>\n",
       "      <td>0.0</td>\n",
       "      <td>0.0</td>\n",
       "      <td>0.0</td>\n",
       "      <td>-1.511647</td>\n",
       "      <td>0.206053</td>\n",
       "      <td>-0.909234</td>\n",
       "    </tr>\n",
       "    <tr>\n",
       "      <th>1333</th>\n",
       "      <td>0.0</td>\n",
       "      <td>0.0</td>\n",
       "      <td>0.0</td>\n",
       "      <td>0.0</td>\n",
       "      <td>0.0</td>\n",
       "      <td>-1.511647</td>\n",
       "      <td>1.014490</td>\n",
       "      <td>-0.909234</td>\n",
       "    </tr>\n",
       "    <tr>\n",
       "      <th>1334</th>\n",
       "      <td>0.0</td>\n",
       "      <td>0.0</td>\n",
       "      <td>1.0</td>\n",
       "      <td>0.0</td>\n",
       "      <td>0.0</td>\n",
       "      <td>-1.297958</td>\n",
       "      <td>-0.797524</td>\n",
       "      <td>-0.909234</td>\n",
       "    </tr>\n",
       "    <tr>\n",
       "      <th>1335</th>\n",
       "      <td>0.0</td>\n",
       "      <td>0.0</td>\n",
       "      <td>0.0</td>\n",
       "      <td>1.0</td>\n",
       "      <td>0.0</td>\n",
       "      <td>1.551231</td>\n",
       "      <td>-0.261299</td>\n",
       "      <td>-0.909234</td>\n",
       "    </tr>\n",
       "  </tbody>\n",
       "</table>\n",
       "<p>1336 rows × 8 columns</p>\n",
       "</div>"
      ],
      "text/plain": [
       "      sex_male  region_northwest  region_southeast  region_southwest  \\\n",
       "0          0.0               0.0               0.0               1.0   \n",
       "1          1.0               0.0               1.0               0.0   \n",
       "2          1.0               0.0               1.0               0.0   \n",
       "3          1.0               1.0               0.0               0.0   \n",
       "4          1.0               1.0               0.0               0.0   \n",
       "...        ...               ...               ...               ...   \n",
       "1331       0.0               0.0               0.0               1.0   \n",
       "1332       1.0               1.0               0.0               0.0   \n",
       "1333       0.0               0.0               0.0               0.0   \n",
       "1334       0.0               0.0               1.0               0.0   \n",
       "1335       0.0               0.0               0.0               1.0   \n",
       "\n",
       "      smoker_yes       age       bmi  children  \n",
       "0            1.0 -1.440418 -0.453160 -0.909234  \n",
       "1            0.0 -1.511647  0.509422 -0.079442  \n",
       "2            0.0 -0.799350  0.383155  1.580143  \n",
       "3            0.0 -0.443201 -1.305052 -0.909234  \n",
       "4            0.0 -0.514431 -0.292456 -0.909234  \n",
       "...          ...       ...       ...       ...  \n",
       "1331         0.0  0.767704  0.050269  1.580143  \n",
       "1332         0.0 -1.511647  0.206053 -0.909234  \n",
       "1333         0.0 -1.511647  1.014490 -0.909234  \n",
       "1334         0.0 -1.297958 -0.797524 -0.909234  \n",
       "1335         0.0  1.551231 -0.261299 -0.909234  \n",
       "\n",
       "[1336 rows x 8 columns]"
      ]
     },
     "execution_count": 109,
     "metadata": {},
     "output_type": "execute_result"
    }
   ],
   "source": [
    "x"
   ]
  },
  {
   "cell_type": "markdown",
   "id": "2b21ee5a-be47-4332-b484-44df0071d696",
   "metadata": {},
   "source": [
    "* After executing this line of code, x will be a DataFrame containing the concatenated dummy variables from dummies and the standardized features from Scaled_df.\n",
    "*  Any rows with missing values are dropped, and the index is reset.\n",
    "\n",
    "* This DataFrame x is typically used as the feature matrix in machine learning tasks, where each row represents an observation (sample) and each column represents a feature.\n",
    "* It is ready to be split into training and testing sets for model training and evaluation."
   ]
  },
  {
   "cell_type": "code",
   "execution_count": 110,
   "id": "1a6d0be9-e4a4-405d-acd9-dfb1f262d2ec",
   "metadata": {},
   "outputs": [],
   "source": [
    "y = df[\"charges\"]"
   ]
  },
  {
   "cell_type": "code",
   "execution_count": 111,
   "id": "69e697e3-fe8e-4d69-b922-9657e23a8a4c",
   "metadata": {},
   "outputs": [
    {
     "data": {
      "text/plain": [
       "0       16884.92400\n",
       "1        1725.55230\n",
       "2        4449.46200\n",
       "3       21984.47061\n",
       "4        3866.85520\n",
       "           ...     \n",
       "1333    10600.54830\n",
       "1334     2205.98080\n",
       "1335     1629.83350\n",
       "1336     2007.94500\n",
       "1337    29141.36030\n",
       "Name: charges, Length: 1337, dtype: float64"
      ]
     },
     "execution_count": 111,
     "metadata": {},
     "output_type": "execute_result"
    }
   ],
   "source": [
    "y"
   ]
  },
  {
   "cell_type": "markdown",
   "id": "cb88fa61-95f5-4751-8ebf-0e687975b650",
   "metadata": {},
   "source": [
    "* After executing this line of code, y will be a Series containing the values of the \"charges\" column from the original DataFrame df.\n",
    "* This variable y is typically used as the target variable in machine learning tasks, where the goal is to predict the value of \"charges\" based on other features (independent variables).\n",
    "\n",
    "* For example, in a regression task, y would represent the dependent variable that the model aims to predict based on the independent variables (x) extracted from the dataset."
   ]
  },
  {
   "cell_type": "code",
   "execution_count": 112,
   "id": "0651285a-a52a-42b8-9828-c938ef82a6bc",
   "metadata": {},
   "outputs": [],
   "source": [
    "x_tr, x_te, y_tr, y_te = train_test_split(x,y[:-1], test_size = 0.25, random_state=24)"
   ]
  },
  {
   "cell_type": "code",
   "execution_count": 113,
   "id": "7663df5f-707a-4989-9cb2-12bc38d9b9b9",
   "metadata": {},
   "outputs": [
    {
     "data": {
      "text/html": [
       "<div>\n",
       "<style scoped>\n",
       "    .dataframe tbody tr th:only-of-type {\n",
       "        vertical-align: middle;\n",
       "    }\n",
       "\n",
       "    .dataframe tbody tr th {\n",
       "        vertical-align: top;\n",
       "    }\n",
       "\n",
       "    .dataframe thead th {\n",
       "        text-align: right;\n",
       "    }\n",
       "</style>\n",
       "<table border=\"1\" class=\"dataframe\">\n",
       "  <thead>\n",
       "    <tr style=\"text-align: right;\">\n",
       "      <th></th>\n",
       "      <th>sex_male</th>\n",
       "      <th>region_northwest</th>\n",
       "      <th>region_southeast</th>\n",
       "      <th>region_southwest</th>\n",
       "      <th>smoker_yes</th>\n",
       "      <th>age</th>\n",
       "      <th>bmi</th>\n",
       "      <th>children</th>\n",
       "    </tr>\n",
       "  </thead>\n",
       "  <tbody>\n",
       "    <tr>\n",
       "      <th>167</th>\n",
       "      <td>0.0</td>\n",
       "      <td>1.0</td>\n",
       "      <td>0.0</td>\n",
       "      <td>0.0</td>\n",
       "      <td>0.0</td>\n",
       "      <td>-0.514431</td>\n",
       "      <td>0.408572</td>\n",
       "      <td>1.580143</td>\n",
       "    </tr>\n",
       "    <tr>\n",
       "      <th>477</th>\n",
       "      <td>1.0</td>\n",
       "      <td>1.0</td>\n",
       "      <td>0.0</td>\n",
       "      <td>0.0</td>\n",
       "      <td>0.0</td>\n",
       "      <td>-1.013039</td>\n",
       "      <td>0.813610</td>\n",
       "      <td>-0.909234</td>\n",
       "    </tr>\n",
       "    <tr>\n",
       "      <th>430</th>\n",
       "      <td>1.0</td>\n",
       "      <td>0.0</td>\n",
       "      <td>0.0</td>\n",
       "      <td>1.0</td>\n",
       "      <td>0.0</td>\n",
       "      <td>-1.440418</td>\n",
       "      <td>0.399553</td>\n",
       "      <td>-0.909234</td>\n",
       "    </tr>\n",
       "    <tr>\n",
       "      <th>1111</th>\n",
       "      <td>0.0</td>\n",
       "      <td>0.0</td>\n",
       "      <td>1.0</td>\n",
       "      <td>0.0</td>\n",
       "      <td>1.0</td>\n",
       "      <td>-0.799350</td>\n",
       "      <td>-0.713073</td>\n",
       "      <td>1.580143</td>\n",
       "    </tr>\n",
       "    <tr>\n",
       "      <th>496</th>\n",
       "      <td>0.0</td>\n",
       "      <td>0.0</td>\n",
       "      <td>0.0</td>\n",
       "      <td>1.0</td>\n",
       "      <td>0.0</td>\n",
       "      <td>-0.585661</td>\n",
       "      <td>-1.158287</td>\n",
       "      <td>0.750351</td>\n",
       "    </tr>\n",
       "    <tr>\n",
       "      <th>...</th>\n",
       "      <td>...</td>\n",
       "      <td>...</td>\n",
       "      <td>...</td>\n",
       "      <td>...</td>\n",
       "      <td>...</td>\n",
       "      <td>...</td>\n",
       "      <td>...</td>\n",
       "      <td>...</td>\n",
       "    </tr>\n",
       "    <tr>\n",
       "      <th>145</th>\n",
       "      <td>0.0</td>\n",
       "      <td>0.0</td>\n",
       "      <td>1.0</td>\n",
       "      <td>0.0</td>\n",
       "      <td>0.0</td>\n",
       "      <td>-0.728120</td>\n",
       "      <td>1.339177</td>\n",
       "      <td>1.580143</td>\n",
       "    </tr>\n",
       "    <tr>\n",
       "      <th>343</th>\n",
       "      <td>1.0</td>\n",
       "      <td>0.0</td>\n",
       "      <td>0.0</td>\n",
       "      <td>0.0</td>\n",
       "      <td>0.0</td>\n",
       "      <td>1.693691</td>\n",
       "      <td>1.000551</td>\n",
       "      <td>-0.909234</td>\n",
       "    </tr>\n",
       "    <tr>\n",
       "      <th>192</th>\n",
       "      <td>1.0</td>\n",
       "      <td>0.0</td>\n",
       "      <td>1.0</td>\n",
       "      <td>0.0</td>\n",
       "      <td>0.0</td>\n",
       "      <td>-1.013039</td>\n",
       "      <td>-0.807363</td>\n",
       "      <td>-0.909234</td>\n",
       "    </tr>\n",
       "    <tr>\n",
       "      <th>899</th>\n",
       "      <td>1.0</td>\n",
       "      <td>0.0</td>\n",
       "      <td>0.0</td>\n",
       "      <td>0.0</td>\n",
       "      <td>0.0</td>\n",
       "      <td>1.480002</td>\n",
       "      <td>1.681901</td>\n",
       "      <td>-0.909234</td>\n",
       "    </tr>\n",
       "    <tr>\n",
       "      <th>418</th>\n",
       "      <td>1.0</td>\n",
       "      <td>0.0</td>\n",
       "      <td>1.0</td>\n",
       "      <td>0.0</td>\n",
       "      <td>0.0</td>\n",
       "      <td>1.764921</td>\n",
       "      <td>1.393291</td>\n",
       "      <td>-0.079442</td>\n",
       "    </tr>\n",
       "  </tbody>\n",
       "</table>\n",
       "<p>1002 rows × 8 columns</p>\n",
       "</div>"
      ],
      "text/plain": [
       "      sex_male  region_northwest  region_southeast  region_southwest  \\\n",
       "167        0.0               1.0               0.0               0.0   \n",
       "477        1.0               1.0               0.0               0.0   \n",
       "430        1.0               0.0               0.0               1.0   \n",
       "1111       0.0               0.0               1.0               0.0   \n",
       "496        0.0               0.0               0.0               1.0   \n",
       "...        ...               ...               ...               ...   \n",
       "145        0.0               0.0               1.0               0.0   \n",
       "343        1.0               0.0               0.0               0.0   \n",
       "192        1.0               0.0               1.0               0.0   \n",
       "899        1.0               0.0               0.0               0.0   \n",
       "418        1.0               0.0               1.0               0.0   \n",
       "\n",
       "      smoker_yes       age       bmi  children  \n",
       "167          0.0 -0.514431  0.408572  1.580143  \n",
       "477          0.0 -1.013039  0.813610 -0.909234  \n",
       "430          0.0 -1.440418  0.399553 -0.909234  \n",
       "1111         1.0 -0.799350 -0.713073  1.580143  \n",
       "496          0.0 -0.585661 -1.158287  0.750351  \n",
       "...          ...       ...       ...       ...  \n",
       "145          0.0 -0.728120  1.339177  1.580143  \n",
       "343          0.0  1.693691  1.000551 -0.909234  \n",
       "192          0.0 -1.013039 -0.807363 -0.909234  \n",
       "899          0.0  1.480002  1.681901 -0.909234  \n",
       "418          0.0  1.764921  1.393291 -0.079442  \n",
       "\n",
       "[1002 rows x 8 columns]"
      ]
     },
     "execution_count": 113,
     "metadata": {},
     "output_type": "execute_result"
    }
   ],
   "source": [
    "x_tr"
   ]
  },
  {
   "cell_type": "markdown",
   "id": "db4b64d7-cc37-40d3-a74d-dcdc690ed441",
   "metadata": {},
   "source": [
    "* x_tr: The feature matrix for training, containing a subset of the features used for training the model.\n",
    "* x_te: The feature matrix for testing, containing the remaining subset of features used for evaluating the model.\n",
    "* y_tr: The target variable for training, containing the corresponding subset of target values used for training.\n",
    "* y_te: The target variable for testing, containing the remaining subset of target values used for evaluating the model.\n",
    "These subsets are randomly selected from the original dataset, ensuring that both the training and testing sets are representative of the overall distribution of the data. This splitting is crucial for assessing the performance of machine learning models and ensuring that they generalize well to unseen data.\n",
    "\n"
   ]
  },
  {
   "cell_type": "markdown",
   "id": "adee77a0-d023-470b-a093-9a2190d1a090",
   "metadata": {},
   "source": [
    "# Select a Machine Learning Algorithm:"
   ]
  },
  {
   "cell_type": "markdown",
   "id": "d1a89c9e-8ca9-43a8-9c40-98511f62e8a9",
   "metadata": {},
   "source": [
    "## Evaluate the Model:"
   ]
  },
  {
   "cell_type": "code",
   "execution_count": 114,
   "id": "d9fc173d-16b8-4524-9c8a-7416cc42bb6e",
   "metadata": {},
   "outputs": [],
   "source": [
    "lr = LinearRegression()\n",
    "lr2 = LinearRegression()\n",
    "dtr = DecisionTreeRegressor()\n",
    "rfr = RandomForestRegressor(n_estimators=200)\n",
    "abr = AdaBoostRegressor(estimator=lr2, n_estimators=200)\n"
   ]
  },
  {
   "cell_type": "markdown",
   "id": "ccc63c7c-c5cb-4705-bf7a-c4cdff42ff64",
   "metadata": {},
   "source": [
    "* lr = LinearRegression(): This line creates an instance of the LinearRegression class, which is used to perform linear regression. Linear regression is a simple regression algorithm that models the relationship between a dependent variable and one or more independent variables by fitting a linear equation to observed data.\n",
    "\n",
    "* lr2 = LinearRegression(): Another instance of the LinearRegression class is created. It seems to be intended for use as a base estimator in the AdaBoostRegressor.\n",
    "\n",
    "* dtr = DecisionTreeRegressor(): This line creates an instance of the DecisionTreeRegressor class, which is used to perform regression using decision trees. Decision tree regression works by partitioning the feature space into regions and fitting a simple model (e.g., a constant value) in each region.\n",
    "\n",
    "* rfr = RandomForestRegressor(n_estimators=200): This line creates an instance of the RandomForestRegressor class with 200 decision trees as estimators. Random forest regression is an ensemble learning method that constructs a multitude of decision trees during training and outputs the mean prediction of the individual trees as the final prediction.\n",
    "\n",
    "* abr = AdaBoostRegressor(estimator=lr2, n_estimators=200): This line creates an instance of the AdaBoostRegressor class with a linear regression (lr2) as the base estimator and 200 decision trees as the number of estimators. AdaBoost regression is an ensemble learning method that fits a sequence of weak learners (in this case, linear regression and decision trees) to weighted versions of the data. It adjusts the weights of the data points at each iteration to emphasize the observations that are difficult to predict.\n",
    "\n",
    "Each instantiated model (lr, lr2, dtr, rfr, abr) is now ready to be trained on data and used to make predictions. Depending on the specific problem and data characteristics, different models may perform better or worse, so it's common practice to try multiple models and compare their performance using appropriate evaluation metrics.\n",
    "\n",
    "\n",
    "\n",
    "\n",
    "\n",
    "\n"
   ]
  },
  {
   "cell_type": "code",
   "execution_count": 115,
   "id": "3a853ef6-25ac-411e-a4fe-5532c5b49fd9",
   "metadata": {},
   "outputs": [],
   "source": [
    "d = []\n",
    "for i in [lr, dtr, rfr, abr]:\n",
    "    i.fit(x_tr, y_tr)\n",
    "    y_pr = i.predict(x_te)\n",
    "    r2 = r2_score(y_te, y_pr)\n",
    "    mse = mean_squared_error(y_te, y_pr)\n",
    "    d.append({\"Model\":i, \"score\":r2, \"Mean_squared Error\":mse})"
   ]
  },
  {
   "cell_type": "markdown",
   "id": "97989bbc-fb2a-4c0a-a9d7-d077bd57014d",
   "metadata": {},
   "source": [
    "* d = []: Initializes an empty list d to store the results of model evaluation.\n",
    "\n",
    "* for i in [lr, dtr, rfr, abr]:: Iterates over each regression model (lr, dtr, rfr, abr) in the list.\n",
    "\n",
    "* i.fit(x_tr, y_tr): Fits the current model i to the training data (x_tr, y_tr) using the fit() method. This trains the model on the training data.\n",
    "\n",
    "* y_pr = i.predict(x_te): Makes predictions on the test data (x_te) using the predict() method of the current model i. This generates predicted target values (y_pr) based on the features in the test set.\n",
    "\n",
    "* r2 = r2_score(y_te, y_pr): Calculates the R-squared score between the actual target values (y_te) and the predicted values (y_pr) using the r2_score() function. R-squared measures the proportion of the variance in the dependent variable that is predictable from the independent variables.\n",
    "\n",
    "* mse = mean_squared_error(y_te, y_pr): Calculates the mean squared error between the actual target values (y_te) and the predicted values (y_pr) using the mean_squared_error() function. Mean squared error represents the average squared difference between the predicted and actual values.\n",
    "\n",
    "* d.append({\"Model\": i, \"score\": r2, \"Mean_squared Error\": mse}): Appends a dictionary containing the model (i), R-squared score (r2), and mean squared error (mse) to the list d. This allows for easy comparison of model performance later.\n",
    "\n",
    "* After executing this code, the list d will contain evaluation metrics for each regression model, including R-squared scores and mean squared errors. This information can be used to compare the performance of different models and select the best-performing one for further analysis or deployment.\n",
    "\n",
    "\n",
    "\n",
    "\n",
    "\n",
    "\n"
   ]
  },
  {
   "cell_type": "code",
   "execution_count": 116,
   "id": "b43e5590-d729-461b-ba66-1da98f10f03d",
   "metadata": {},
   "outputs": [
    {
     "data": {
      "text/plain": [
       "[{'Model': LinearRegression(),\n",
       "  'score': 0.6902656669806088,\n",
       "  'Mean_squared Error': 55440907.8038625},\n",
       " {'Model': DecisionTreeRegressor(),\n",
       "  'score': 0.40077215289082446,\n",
       "  'Mean_squared Error': 107258809.51339978},\n",
       " {'Model': RandomForestRegressor(n_estimators=200),\n",
       "  'score': 0.6677433380244768,\n",
       "  'Mean_squared Error': 59472292.86541782},\n",
       " {'Model': AdaBoostRegressor(estimator=LinearRegression(), n_estimators=200),\n",
       "  'score': 0.6956745130084139,\n",
       "  'Mean_squared Error': 54472751.21938059}]"
      ]
     },
     "execution_count": 116,
     "metadata": {},
     "output_type": "execute_result"
    }
   ],
   "source": [
    "d"
   ]
  },
  {
   "cell_type": "code",
   "execution_count": 117,
   "id": "7b77c8fc-c13c-4d29-9e6f-7e1470e1d9e8",
   "metadata": {},
   "outputs": [],
   "source": [
    "model_details = pd.DataFrame(d)"
   ]
  },
  {
   "cell_type": "code",
   "execution_count": 118,
   "id": "10467724-d018-477a-96d9-29fa95d7007f",
   "metadata": {},
   "outputs": [
    {
     "data": {
      "text/html": [
       "<div>\n",
       "<style scoped>\n",
       "    .dataframe tbody tr th:only-of-type {\n",
       "        vertical-align: middle;\n",
       "    }\n",
       "\n",
       "    .dataframe tbody tr th {\n",
       "        vertical-align: top;\n",
       "    }\n",
       "\n",
       "    .dataframe thead th {\n",
       "        text-align: right;\n",
       "    }\n",
       "</style>\n",
       "<table border=\"1\" class=\"dataframe\">\n",
       "  <thead>\n",
       "    <tr style=\"text-align: right;\">\n",
       "      <th></th>\n",
       "      <th>Model</th>\n",
       "      <th>score</th>\n",
       "      <th>Mean_squared Error</th>\n",
       "    </tr>\n",
       "  </thead>\n",
       "  <tbody>\n",
       "    <tr>\n",
       "      <th>0</th>\n",
       "      <td>LinearRegression()</td>\n",
       "      <td>0.690266</td>\n",
       "      <td>5.544091e+07</td>\n",
       "    </tr>\n",
       "    <tr>\n",
       "      <th>1</th>\n",
       "      <td>DecisionTreeRegressor()</td>\n",
       "      <td>0.400772</td>\n",
       "      <td>1.072588e+08</td>\n",
       "    </tr>\n",
       "    <tr>\n",
       "      <th>2</th>\n",
       "      <td>(DecisionTreeRegressor(max_features=1.0, rando...</td>\n",
       "      <td>0.667743</td>\n",
       "      <td>5.947229e+07</td>\n",
       "    </tr>\n",
       "    <tr>\n",
       "      <th>3</th>\n",
       "      <td>(LinearRegression(), LinearRegression(), Linea...</td>\n",
       "      <td>0.695675</td>\n",
       "      <td>5.447275e+07</td>\n",
       "    </tr>\n",
       "  </tbody>\n",
       "</table>\n",
       "</div>"
      ],
      "text/plain": [
       "                                               Model     score  \\\n",
       "0                                 LinearRegression()  0.690266   \n",
       "1                            DecisionTreeRegressor()  0.400772   \n",
       "2  (DecisionTreeRegressor(max_features=1.0, rando...  0.667743   \n",
       "3  (LinearRegression(), LinearRegression(), Linea...  0.695675   \n",
       "\n",
       "   Mean_squared Error  \n",
       "0        5.544091e+07  \n",
       "1        1.072588e+08  \n",
       "2        5.947229e+07  \n",
       "3        5.447275e+07  "
      ]
     },
     "execution_count": 118,
     "metadata": {},
     "output_type": "execute_result"
    }
   ],
   "source": [
    "model_details"
   ]
  },
  {
   "cell_type": "markdown",
   "id": "55bda435-ca9d-4109-9c15-0650c92730b7",
   "metadata": {},
   "source": [
    "* After executing this line of code, the DataFrame model_details will contain information about each model's performance, including the R-squared score and mean squared error.\n",
    "*  Each row in the DataFrame corresponds to a model, and each column represents a different aspect of the model's performance.\n",
    "\n"
   ]
  },
  {
   "cell_type": "markdown",
   "id": "a35eb372-33c1-486c-8d64-9a06a63d9ab7",
   "metadata": {},
   "source": [
    "# Feature Engineering"
   ]
  },
  {
   "cell_type": "code",
   "execution_count": 119,
   "id": "c7340a9d-1e76-4a90-9a3c-bc83837ee30a",
   "metadata": {},
   "outputs": [],
   "source": [
    "selector = SequentialFeatureSelector(estimator=LinearRegression(), cv = 5, scoring=\"r2\")"
   ]
  },
  {
   "cell_type": "code",
   "execution_count": 120,
   "id": "c3db1d11-48cc-4c48-aeec-eddeba24c3fd",
   "metadata": {},
   "outputs": [
    {
     "data": {
      "text/html": [
       "<style>#sk-container-id-2 {\n",
       "  /* Definition of color scheme common for light and dark mode */\n",
       "  --sklearn-color-text: black;\n",
       "  --sklearn-color-line: gray;\n",
       "  /* Definition of color scheme for unfitted estimators */\n",
       "  --sklearn-color-unfitted-level-0: #fff5e6;\n",
       "  --sklearn-color-unfitted-level-1: #f6e4d2;\n",
       "  --sklearn-color-unfitted-level-2: #ffe0b3;\n",
       "  --sklearn-color-unfitted-level-3: chocolate;\n",
       "  /* Definition of color scheme for fitted estimators */\n",
       "  --sklearn-color-fitted-level-0: #f0f8ff;\n",
       "  --sklearn-color-fitted-level-1: #d4ebff;\n",
       "  --sklearn-color-fitted-level-2: #b3dbfd;\n",
       "  --sklearn-color-fitted-level-3: cornflowerblue;\n",
       "\n",
       "  /* Specific color for light theme */\n",
       "  --sklearn-color-text-on-default-background: var(--sg-text-color, var(--theme-code-foreground, var(--jp-content-font-color1, black)));\n",
       "  --sklearn-color-background: var(--sg-background-color, var(--theme-background, var(--jp-layout-color0, white)));\n",
       "  --sklearn-color-border-box: var(--sg-text-color, var(--theme-code-foreground, var(--jp-content-font-color1, black)));\n",
       "  --sklearn-color-icon: #696969;\n",
       "\n",
       "  @media (prefers-color-scheme: dark) {\n",
       "    /* Redefinition of color scheme for dark theme */\n",
       "    --sklearn-color-text-on-default-background: var(--sg-text-color, var(--theme-code-foreground, var(--jp-content-font-color1, white)));\n",
       "    --sklearn-color-background: var(--sg-background-color, var(--theme-background, var(--jp-layout-color0, #111)));\n",
       "    --sklearn-color-border-box: var(--sg-text-color, var(--theme-code-foreground, var(--jp-content-font-color1, white)));\n",
       "    --sklearn-color-icon: #878787;\n",
       "  }\n",
       "}\n",
       "\n",
       "#sk-container-id-2 {\n",
       "  color: var(--sklearn-color-text);\n",
       "}\n",
       "\n",
       "#sk-container-id-2 pre {\n",
       "  padding: 0;\n",
       "}\n",
       "\n",
       "#sk-container-id-2 input.sk-hidden--visually {\n",
       "  border: 0;\n",
       "  clip: rect(1px 1px 1px 1px);\n",
       "  clip: rect(1px, 1px, 1px, 1px);\n",
       "  height: 1px;\n",
       "  margin: -1px;\n",
       "  overflow: hidden;\n",
       "  padding: 0;\n",
       "  position: absolute;\n",
       "  width: 1px;\n",
       "}\n",
       "\n",
       "#sk-container-id-2 div.sk-dashed-wrapped {\n",
       "  border: 1px dashed var(--sklearn-color-line);\n",
       "  margin: 0 0.4em 0.5em 0.4em;\n",
       "  box-sizing: border-box;\n",
       "  padding-bottom: 0.4em;\n",
       "  background-color: var(--sklearn-color-background);\n",
       "}\n",
       "\n",
       "#sk-container-id-2 div.sk-container {\n",
       "  /* jupyter's `normalize.less` sets `[hidden] { display: none; }`\n",
       "     but bootstrap.min.css set `[hidden] { display: none !important; }`\n",
       "     so we also need the `!important` here to be able to override the\n",
       "     default hidden behavior on the sphinx rendered scikit-learn.org.\n",
       "     See: https://github.com/scikit-learn/scikit-learn/issues/21755 */\n",
       "  display: inline-block !important;\n",
       "  position: relative;\n",
       "}\n",
       "\n",
       "#sk-container-id-2 div.sk-text-repr-fallback {\n",
       "  display: none;\n",
       "}\n",
       "\n",
       "div.sk-parallel-item,\n",
       "div.sk-serial,\n",
       "div.sk-item {\n",
       "  /* draw centered vertical line to link estimators */\n",
       "  background-image: linear-gradient(var(--sklearn-color-text-on-default-background), var(--sklearn-color-text-on-default-background));\n",
       "  background-size: 2px 100%;\n",
       "  background-repeat: no-repeat;\n",
       "  background-position: center center;\n",
       "}\n",
       "\n",
       "/* Parallel-specific style estimator block */\n",
       "\n",
       "#sk-container-id-2 div.sk-parallel-item::after {\n",
       "  content: \"\";\n",
       "  width: 100%;\n",
       "  border-bottom: 2px solid var(--sklearn-color-text-on-default-background);\n",
       "  flex-grow: 1;\n",
       "}\n",
       "\n",
       "#sk-container-id-2 div.sk-parallel {\n",
       "  display: flex;\n",
       "  align-items: stretch;\n",
       "  justify-content: center;\n",
       "  background-color: var(--sklearn-color-background);\n",
       "  position: relative;\n",
       "}\n",
       "\n",
       "#sk-container-id-2 div.sk-parallel-item {\n",
       "  display: flex;\n",
       "  flex-direction: column;\n",
       "}\n",
       "\n",
       "#sk-container-id-2 div.sk-parallel-item:first-child::after {\n",
       "  align-self: flex-end;\n",
       "  width: 50%;\n",
       "}\n",
       "\n",
       "#sk-container-id-2 div.sk-parallel-item:last-child::after {\n",
       "  align-self: flex-start;\n",
       "  width: 50%;\n",
       "}\n",
       "\n",
       "#sk-container-id-2 div.sk-parallel-item:only-child::after {\n",
       "  width: 0;\n",
       "}\n",
       "\n",
       "/* Serial-specific style estimator block */\n",
       "\n",
       "#sk-container-id-2 div.sk-serial {\n",
       "  display: flex;\n",
       "  flex-direction: column;\n",
       "  align-items: center;\n",
       "  background-color: var(--sklearn-color-background);\n",
       "  padding-right: 1em;\n",
       "  padding-left: 1em;\n",
       "}\n",
       "\n",
       "\n",
       "/* Toggleable style: style used for estimator/Pipeline/ColumnTransformer box that is\n",
       "clickable and can be expanded/collapsed.\n",
       "- Pipeline and ColumnTransformer use this feature and define the default style\n",
       "- Estimators will overwrite some part of the style using the `sk-estimator` class\n",
       "*/\n",
       "\n",
       "/* Pipeline and ColumnTransformer style (default) */\n",
       "\n",
       "#sk-container-id-2 div.sk-toggleable {\n",
       "  /* Default theme specific background. It is overwritten whether we have a\n",
       "  specific estimator or a Pipeline/ColumnTransformer */\n",
       "  background-color: var(--sklearn-color-background);\n",
       "}\n",
       "\n",
       "/* Toggleable label */\n",
       "#sk-container-id-2 label.sk-toggleable__label {\n",
       "  cursor: pointer;\n",
       "  display: block;\n",
       "  width: 100%;\n",
       "  margin-bottom: 0;\n",
       "  padding: 0.5em;\n",
       "  box-sizing: border-box;\n",
       "  text-align: center;\n",
       "}\n",
       "\n",
       "#sk-container-id-2 label.sk-toggleable__label-arrow:before {\n",
       "  /* Arrow on the left of the label */\n",
       "  content: \"▸\";\n",
       "  float: left;\n",
       "  margin-right: 0.25em;\n",
       "  color: var(--sklearn-color-icon);\n",
       "}\n",
       "\n",
       "#sk-container-id-2 label.sk-toggleable__label-arrow:hover:before {\n",
       "  color: var(--sklearn-color-text);\n",
       "}\n",
       "\n",
       "/* Toggleable content - dropdown */\n",
       "\n",
       "#sk-container-id-2 div.sk-toggleable__content {\n",
       "  max-height: 0;\n",
       "  max-width: 0;\n",
       "  overflow: hidden;\n",
       "  text-align: left;\n",
       "  /* unfitted */\n",
       "  background-color: var(--sklearn-color-unfitted-level-0);\n",
       "}\n",
       "\n",
       "#sk-container-id-2 div.sk-toggleable__content.fitted {\n",
       "  /* fitted */\n",
       "  background-color: var(--sklearn-color-fitted-level-0);\n",
       "}\n",
       "\n",
       "#sk-container-id-2 div.sk-toggleable__content pre {\n",
       "  margin: 0.2em;\n",
       "  border-radius: 0.25em;\n",
       "  color: var(--sklearn-color-text);\n",
       "  /* unfitted */\n",
       "  background-color: var(--sklearn-color-unfitted-level-0);\n",
       "}\n",
       "\n",
       "#sk-container-id-2 div.sk-toggleable__content.fitted pre {\n",
       "  /* unfitted */\n",
       "  background-color: var(--sklearn-color-fitted-level-0);\n",
       "}\n",
       "\n",
       "#sk-container-id-2 input.sk-toggleable__control:checked~div.sk-toggleable__content {\n",
       "  /* Expand drop-down */\n",
       "  max-height: 200px;\n",
       "  max-width: 100%;\n",
       "  overflow: auto;\n",
       "}\n",
       "\n",
       "#sk-container-id-2 input.sk-toggleable__control:checked~label.sk-toggleable__label-arrow:before {\n",
       "  content: \"▾\";\n",
       "}\n",
       "\n",
       "/* Pipeline/ColumnTransformer-specific style */\n",
       "\n",
       "#sk-container-id-2 div.sk-label input.sk-toggleable__control:checked~label.sk-toggleable__label {\n",
       "  color: var(--sklearn-color-text);\n",
       "  background-color: var(--sklearn-color-unfitted-level-2);\n",
       "}\n",
       "\n",
       "#sk-container-id-2 div.sk-label.fitted input.sk-toggleable__control:checked~label.sk-toggleable__label {\n",
       "  background-color: var(--sklearn-color-fitted-level-2);\n",
       "}\n",
       "\n",
       "/* Estimator-specific style */\n",
       "\n",
       "/* Colorize estimator box */\n",
       "#sk-container-id-2 div.sk-estimator input.sk-toggleable__control:checked~label.sk-toggleable__label {\n",
       "  /* unfitted */\n",
       "  background-color: var(--sklearn-color-unfitted-level-2);\n",
       "}\n",
       "\n",
       "#sk-container-id-2 div.sk-estimator.fitted input.sk-toggleable__control:checked~label.sk-toggleable__label {\n",
       "  /* fitted */\n",
       "  background-color: var(--sklearn-color-fitted-level-2);\n",
       "}\n",
       "\n",
       "#sk-container-id-2 div.sk-label label.sk-toggleable__label,\n",
       "#sk-container-id-2 div.sk-label label {\n",
       "  /* The background is the default theme color */\n",
       "  color: var(--sklearn-color-text-on-default-background);\n",
       "}\n",
       "\n",
       "/* On hover, darken the color of the background */\n",
       "#sk-container-id-2 div.sk-label:hover label.sk-toggleable__label {\n",
       "  color: var(--sklearn-color-text);\n",
       "  background-color: var(--sklearn-color-unfitted-level-2);\n",
       "}\n",
       "\n",
       "/* Label box, darken color on hover, fitted */\n",
       "#sk-container-id-2 div.sk-label.fitted:hover label.sk-toggleable__label.fitted {\n",
       "  color: var(--sklearn-color-text);\n",
       "  background-color: var(--sklearn-color-fitted-level-2);\n",
       "}\n",
       "\n",
       "/* Estimator label */\n",
       "\n",
       "#sk-container-id-2 div.sk-label label {\n",
       "  font-family: monospace;\n",
       "  font-weight: bold;\n",
       "  display: inline-block;\n",
       "  line-height: 1.2em;\n",
       "}\n",
       "\n",
       "#sk-container-id-2 div.sk-label-container {\n",
       "  text-align: center;\n",
       "}\n",
       "\n",
       "/* Estimator-specific */\n",
       "#sk-container-id-2 div.sk-estimator {\n",
       "  font-family: monospace;\n",
       "  border: 1px dotted var(--sklearn-color-border-box);\n",
       "  border-radius: 0.25em;\n",
       "  box-sizing: border-box;\n",
       "  margin-bottom: 0.5em;\n",
       "  /* unfitted */\n",
       "  background-color: var(--sklearn-color-unfitted-level-0);\n",
       "}\n",
       "\n",
       "#sk-container-id-2 div.sk-estimator.fitted {\n",
       "  /* fitted */\n",
       "  background-color: var(--sklearn-color-fitted-level-0);\n",
       "}\n",
       "\n",
       "/* on hover */\n",
       "#sk-container-id-2 div.sk-estimator:hover {\n",
       "  /* unfitted */\n",
       "  background-color: var(--sklearn-color-unfitted-level-2);\n",
       "}\n",
       "\n",
       "#sk-container-id-2 div.sk-estimator.fitted:hover {\n",
       "  /* fitted */\n",
       "  background-color: var(--sklearn-color-fitted-level-2);\n",
       "}\n",
       "\n",
       "/* Specification for estimator info (e.g. \"i\" and \"?\") */\n",
       "\n",
       "/* Common style for \"i\" and \"?\" */\n",
       "\n",
       ".sk-estimator-doc-link,\n",
       "a:link.sk-estimator-doc-link,\n",
       "a:visited.sk-estimator-doc-link {\n",
       "  float: right;\n",
       "  font-size: smaller;\n",
       "  line-height: 1em;\n",
       "  font-family: monospace;\n",
       "  background-color: var(--sklearn-color-background);\n",
       "  border-radius: 1em;\n",
       "  height: 1em;\n",
       "  width: 1em;\n",
       "  text-decoration: none !important;\n",
       "  margin-left: 1ex;\n",
       "  /* unfitted */\n",
       "  border: var(--sklearn-color-unfitted-level-1) 1pt solid;\n",
       "  color: var(--sklearn-color-unfitted-level-1);\n",
       "}\n",
       "\n",
       ".sk-estimator-doc-link.fitted,\n",
       "a:link.sk-estimator-doc-link.fitted,\n",
       "a:visited.sk-estimator-doc-link.fitted {\n",
       "  /* fitted */\n",
       "  border: var(--sklearn-color-fitted-level-1) 1pt solid;\n",
       "  color: var(--sklearn-color-fitted-level-1);\n",
       "}\n",
       "\n",
       "/* On hover */\n",
       "div.sk-estimator:hover .sk-estimator-doc-link:hover,\n",
       ".sk-estimator-doc-link:hover,\n",
       "div.sk-label-container:hover .sk-estimator-doc-link:hover,\n",
       ".sk-estimator-doc-link:hover {\n",
       "  /* unfitted */\n",
       "  background-color: var(--sklearn-color-unfitted-level-3);\n",
       "  color: var(--sklearn-color-background);\n",
       "  text-decoration: none;\n",
       "}\n",
       "\n",
       "div.sk-estimator.fitted:hover .sk-estimator-doc-link.fitted:hover,\n",
       ".sk-estimator-doc-link.fitted:hover,\n",
       "div.sk-label-container:hover .sk-estimator-doc-link.fitted:hover,\n",
       ".sk-estimator-doc-link.fitted:hover {\n",
       "  /* fitted */\n",
       "  background-color: var(--sklearn-color-fitted-level-3);\n",
       "  color: var(--sklearn-color-background);\n",
       "  text-decoration: none;\n",
       "}\n",
       "\n",
       "/* Span, style for the box shown on hovering the info icon */\n",
       ".sk-estimator-doc-link span {\n",
       "  display: none;\n",
       "  z-index: 9999;\n",
       "  position: relative;\n",
       "  font-weight: normal;\n",
       "  right: .2ex;\n",
       "  padding: .5ex;\n",
       "  margin: .5ex;\n",
       "  width: min-content;\n",
       "  min-width: 20ex;\n",
       "  max-width: 50ex;\n",
       "  color: var(--sklearn-color-text);\n",
       "  box-shadow: 2pt 2pt 4pt #999;\n",
       "  /* unfitted */\n",
       "  background: var(--sklearn-color-unfitted-level-0);\n",
       "  border: .5pt solid var(--sklearn-color-unfitted-level-3);\n",
       "}\n",
       "\n",
       ".sk-estimator-doc-link.fitted span {\n",
       "  /* fitted */\n",
       "  background: var(--sklearn-color-fitted-level-0);\n",
       "  border: var(--sklearn-color-fitted-level-3);\n",
       "}\n",
       "\n",
       ".sk-estimator-doc-link:hover span {\n",
       "  display: block;\n",
       "}\n",
       "\n",
       "/* \"?\"-specific style due to the `<a>` HTML tag */\n",
       "\n",
       "#sk-container-id-2 a.estimator_doc_link {\n",
       "  float: right;\n",
       "  font-size: 1rem;\n",
       "  line-height: 1em;\n",
       "  font-family: monospace;\n",
       "  background-color: var(--sklearn-color-background);\n",
       "  border-radius: 1rem;\n",
       "  height: 1rem;\n",
       "  width: 1rem;\n",
       "  text-decoration: none;\n",
       "  /* unfitted */\n",
       "  color: var(--sklearn-color-unfitted-level-1);\n",
       "  border: var(--sklearn-color-unfitted-level-1) 1pt solid;\n",
       "}\n",
       "\n",
       "#sk-container-id-2 a.estimator_doc_link.fitted {\n",
       "  /* fitted */\n",
       "  border: var(--sklearn-color-fitted-level-1) 1pt solid;\n",
       "  color: var(--sklearn-color-fitted-level-1);\n",
       "}\n",
       "\n",
       "/* On hover */\n",
       "#sk-container-id-2 a.estimator_doc_link:hover {\n",
       "  /* unfitted */\n",
       "  background-color: var(--sklearn-color-unfitted-level-3);\n",
       "  color: var(--sklearn-color-background);\n",
       "  text-decoration: none;\n",
       "}\n",
       "\n",
       "#sk-container-id-2 a.estimator_doc_link.fitted:hover {\n",
       "  /* fitted */\n",
       "  background-color: var(--sklearn-color-fitted-level-3);\n",
       "}\n",
       "</style><div id=\"sk-container-id-2\" class=\"sk-top-container\"><div class=\"sk-text-repr-fallback\"><pre>SequentialFeatureSelector(estimator=LinearRegression(), scoring=&#x27;r2&#x27;)</pre><b>In a Jupyter environment, please rerun this cell to show the HTML representation or trust the notebook. <br />On GitHub, the HTML representation is unable to render, please try loading this page with nbviewer.org.</b></div><div class=\"sk-container\" hidden><div class=\"sk-item sk-dashed-wrapped\"><div class=\"sk-label-container\"><div class=\"sk-label fitted sk-toggleable\"><input class=\"sk-toggleable__control sk-hidden--visually\" id=\"sk-estimator-id-4\" type=\"checkbox\" ><label for=\"sk-estimator-id-4\" class=\"sk-toggleable__label fitted sk-toggleable__label-arrow fitted\">&nbsp;&nbsp;SequentialFeatureSelector<a class=\"sk-estimator-doc-link fitted\" rel=\"noreferrer\" target=\"_blank\" href=\"https://scikit-learn.org/1.4/modules/generated/sklearn.feature_selection.SequentialFeatureSelector.html\">?<span>Documentation for SequentialFeatureSelector</span></a><span class=\"sk-estimator-doc-link fitted\">i<span>Fitted</span></span></label><div class=\"sk-toggleable__content fitted\"><pre>SequentialFeatureSelector(estimator=LinearRegression(), scoring=&#x27;r2&#x27;)</pre></div> </div></div><div class=\"sk-parallel\"><div class=\"sk-parallel-item\"><div class=\"sk-item\"><div class=\"sk-label-container\"><div class=\"sk-label fitted sk-toggleable\"><input class=\"sk-toggleable__control sk-hidden--visually\" id=\"sk-estimator-id-5\" type=\"checkbox\" ><label for=\"sk-estimator-id-5\" class=\"sk-toggleable__label fitted sk-toggleable__label-arrow fitted\">estimator: LinearRegression</label><div class=\"sk-toggleable__content fitted\"><pre>LinearRegression()</pre></div> </div></div><div class=\"sk-serial\"><div class=\"sk-item\"><div class=\"sk-estimator fitted sk-toggleable\"><input class=\"sk-toggleable__control sk-hidden--visually\" id=\"sk-estimator-id-6\" type=\"checkbox\" ><label for=\"sk-estimator-id-6\" class=\"sk-toggleable__label fitted sk-toggleable__label-arrow fitted\">&nbsp;LinearRegression<a class=\"sk-estimator-doc-link fitted\" rel=\"noreferrer\" target=\"_blank\" href=\"https://scikit-learn.org/1.4/modules/generated/sklearn.linear_model.LinearRegression.html\">?<span>Documentation for LinearRegression</span></a></label><div class=\"sk-toggleable__content fitted\"><pre>LinearRegression()</pre></div> </div></div></div></div></div></div></div></div></div>"
      ],
      "text/plain": [
       "SequentialFeatureSelector(estimator=LinearRegression(), scoring='r2')"
      ]
     },
     "execution_count": 120,
     "metadata": {},
     "output_type": "execute_result"
    }
   ],
   "source": [
    "selector.fit(x_tr, y_tr)"
   ]
  },
  {
   "cell_type": "markdown",
   "id": "3468024c-edda-41d4-a2d7-9c609c1a1c6c",
   "metadata": {},
   "source": [
    "* After executing this line of code, selector will be an instance of the Sequential Feature Selector configured to perform feature selection using linear regression as the estimator, 5-fold cross-validation, and maximizing R-squared as the scoring metric.\n",
    "* This selector can be further used to perform feature selection on a dataset by fitting it to the data and accessing the selected features."
   ]
  },
  {
   "cell_type": "code",
   "execution_count": 133,
   "id": "701a518c-b6ad-41d2-b6c4-09100bf1db80",
   "metadata": {},
   "outputs": [],
   "source": [
    "selected = selector.support_"
   ]
  },
  {
   "cell_type": "markdown",
   "id": "16ab48a8-30bb-43bc-b69e-5300729de432",
   "metadata": {},
   "source": [
    "* You can use the selected array to extract the subset of selected features from your original feature set for further analysis or model training.\n",
    "*  For example, we can use here the boolean indexing to filter out the selected features from your feature matrix:\n",
    "*  This code snippet would create a DataFrame selected_x containing only the selected features from the original feature matrix x. These selected features can then be used for model training or other downstream tasks.\n",
    "\n",
    "\n",
    "\n",
    "\n",
    "\n",
    "\n"
   ]
  },
  {
   "cell_type": "code",
   "execution_count": 134,
   "id": "f3a6baf9-b197-4e72-98b5-cdc70b0393c1",
   "metadata": {},
   "outputs": [
    {
     "data": {
      "text/plain": [
       "Index(['sex_male', 'region_northwest', 'region_southeast', 'region_southwest',\n",
       "       'smoker_yes', 'age', 'bmi', 'children'],\n",
       "      dtype='object')"
      ]
     },
     "execution_count": 134,
     "metadata": {},
     "output_type": "execute_result"
    }
   ],
   "source": [
    "features = x.columns\n",
    "features"
   ]
  },
  {
   "cell_type": "markdown",
   "id": "941994b0-5e67-4717-83db-6d77ff4d9d5b",
   "metadata": {},
   "source": [
    "* x.columns: This attribute of a DataFrame (x) returns an Index object containing the column labels. Each label represents a feature in the DataFrame.\n",
    "\n",
    "* features = x.columns: This assigns the column labels of the DataFrame x to the variable features.\n",
    "\n",
    "* After executing this line of code, features will be a pandas Index object containing the column names (i.e., feature names) of the feature matrix x.\n",
    "\n",
    "* This information about the column names can be useful for various purposes, such as accessing specific columns, iterating over columns, or performing operations based on column names. For example, you can use features to access a specific feature or to iterate over all features in the feature matrix x."
   ]
  },
  {
   "cell_type": "code",
   "execution_count": 137,
   "id": "5844f8d5-0872-4d92-b35d-58ecd02f74ee",
   "metadata": {},
   "outputs": [],
   "source": [
    "\n",
    "selected_features = [features[i] for i, select in enumerate(selected) if select]"
   ]
  },
  {
   "cell_type": "markdown",
   "id": "19af730c-55e5-45f5-add2-4fe7861cee18",
   "metadata": {},
   "source": [
    "* The resulting selected_features list will contain only the names of the features that were selected by the feature selector (selected is True).\n",
    "* These selected features are typically those that the feature selection algorithm deemed important or relevant for prediction based on the specified performance metric.\n",
    "\n",
    "* We can use here the selected_features list to access or subset the selected features from your original feature matrix for further analysis or model training."
   ]
  },
  {
   "cell_type": "code",
   "execution_count": 138,
   "id": "28d6f948-a6e2-4f61-82d7-793bca6d187a",
   "metadata": {},
   "outputs": [
    {
     "data": {
      "text/plain": [
       "['smoker_yes', 'age', 'bmi', 'children']"
      ]
     },
     "execution_count": 138,
     "metadata": {},
     "output_type": "execute_result"
    }
   ],
   "source": [
    "selected_features"
   ]
  },
  {
   "cell_type": "markdown",
   "id": "6fe7b538-4f8d-4c48-a656-07dd0d8cf7fb",
   "metadata": {},
   "source": [
    "# Model Deployment"
   ]
  },
  {
   "cell_type": "markdown",
   "id": "4c4b3aef-2eda-4a30-9ec4-c53aa7563475",
   "metadata": {},
   "source": [
    "### Model Save\n",
    "* 1) Using Joblib\n",
    "* 2) Using Pickle"
   ]
  },
  {
   "cell_type": "code",
   "execution_count": 141,
   "id": "fa6e419f-ea1e-4115-a65f-c95190f82094",
   "metadata": {},
   "outputs": [],
   "source": [
    "import joblib\n",
    "import pickle"
   ]
  },
  {
   "cell_type": "markdown",
   "id": "1ad718c4-7f20-4932-ba60-d9286a18e856",
   "metadata": {},
   "source": [
    "* Both joblib and pickle are Python libraries used for serialization, which is the process of converting objects in memory to a byte stream that can be stored on disk or sent over a network.\n",
    "*  Serialization is commonly used in machine learning for saving trained models, preprocessing pipelines, and other objects for later use or sharing.\n",
    "  \n",
    "* joblib:\n",
    "\n",
    "joblib is a library optimized for saving and loading Python objects, particularly NumPy arrays, efficiently.\n",
    "It is commonly used in the Python scientific computing ecosystem, including machine learning libraries like scikit-learn.\n",
    "joblib.dump() and joblib.load() are the main functions provided by joblib for saving and loading Python objects, respectively.\n",
    "\n",
    "* pickle:\n",
    "\n",
    "pickle is a standard Python library used for object serialization.\n",
    "It can serialize almost any Python object, including custom classes and functions.\n",
    "While it's flexible, pickle is not as efficient as joblib, especially for large NumPy arrays.\n",
    "pickle.dump() and pickle.load() are the main functions provided by pickle for saving and loading Python objects, respectively.\n",
    "\n",
    "* Both libraries are suitable for saving and loading machine learning models and related objects. The choice between joblib and pickle often comes down to personal preference and specific use cases. However, joblib is generally preferred for saving large NumPy arrays or scikit-learn models due to its efficiency.\n",
    "\n",
    "\n",
    "\n",
    "\n",
    "\n",
    "\n"
   ]
  },
  {
   "cell_type": "code",
   "execution_count": 142,
   "id": "3b7db283-3965-40b1-b774-9e47bbd66cb1",
   "metadata": {},
   "outputs": [
    {
     "data": {
      "text/plain": [
       "['project_1_joblib']"
      ]
     },
     "execution_count": 142,
     "metadata": {},
     "output_type": "execute_result"
    }
   ],
   "source": [
    "joblib.dump(lr, \"project_1_joblib\")\n",
    "# Saving Model"
   ]
  },
  {
   "cell_type": "markdown",
   "id": "548941a0-bada-4293-be36-ae574eb19c46",
   "metadata": {},
   "source": [
    "* After executing this line of code, the trained linear regression model (lr) will be saved to a file named \"project_1_joblib\" in the current working directory.\n",
    "* This file can later be loaded back into memory using the joblib.load() function to access the trained model for prediction or further analysis."
   ]
  },
  {
   "cell_type": "code",
   "execution_count": 143,
   "id": "a3cfd790-b29c-40d8-a858-cba70f01fc86",
   "metadata": {},
   "outputs": [],
   "source": [
    "with open(\"project_1_pickle\", mode = \"wb\") as file:\n",
    "    pickle.dump(lr, file)"
   ]
  },
  {
   "cell_type": "markdown",
   "id": "e487f6a3-2f7b-4809-a962-e105b40ec60f",
   "metadata": {},
   "source": [
    "* with open(\"project_1_pickle\", mode=\"wb\") as file:: This line opens a file named \"project_1_pickle\" in binary write mode (\"wb\") for writing. The with statement ensures that the file is properly closed after the block of code is executed.\n",
    "\n",
    "* pickle.dump(lr, file): This line serializes (i.e., saves) the trained linear regression model (lr) to the file file using the pickle.dump() function. The model is converted into a byte stream and written to the file.\n",
    "\n",
    "* Here's the meaning of the parameters:\n",
    "\n",
    "* lr: The trained linear regression model that will be serialized and saved.\n",
    "* file: The file object opened in binary write mode (\"wb\") where the serialized model will be written.\n",
    "* After executing this code, the trained linear regression model (lr) will be saved to a file named \"project_1_pickle\" in the current working directory. This file will contain the serialized representation of the model.\n",
    "* Later, you can load this file using pickle.load() to deserialize the model and use it for predictions or further analysis.\n",
    "\n",
    "\n",
    "\n",
    "\n",
    "\n",
    "\n"
   ]
  },
  {
   "cell_type": "code",
   "execution_count": 144,
   "id": "2fb50068-4dbf-4153-8736-c2572e994de2",
   "metadata": {},
   "outputs": [],
   "source": [
    "lr_j1 = joblib.load(\"project_1_joblib\")"
   ]
  },
  {
   "cell_type": "markdown",
   "id": "24730a47-f801-419c-8854-a4c2423829ad",
   "metadata": {},
   "source": [
    "* After executing this line of code, the serialized linear regression model stored in the file \"project_1_joblib\" will be loaded into memory and assigned to the variable lr_j1.\n",
    "* This allows you to access and use the trained linear regression model (lr_j1) for making predictions or further analysis without having to train the model again.\n",
    "\n",
    "\n",
    "\n",
    "\n",
    "\n",
    "\n"
   ]
  },
  {
   "cell_type": "code",
   "execution_count": 145,
   "id": "9b49cfeb-b0f0-4e98-828b-db64516e0fc3",
   "metadata": {},
   "outputs": [
    {
     "data": {
      "text/plain": [
       "array([10599.23877133, 12085.00222901,  9512.23688827, 32564.26424804,\n",
       "       10290.92649589,  7496.59989958,  5117.27249845, 12015.42952804,\n",
       "        7586.77065087, 31268.09554562, 12047.22327154,  7466.44167793,\n",
       "        9881.70504833,  7897.72740507, 13418.41624333, 10242.51780928,\n",
       "       28173.62005841,  6951.17059387,  6090.05612264, 29638.94962804,\n",
       "        6639.38005055,  9150.74386646,  7265.36387552,  5205.92365297,\n",
       "       26459.08388897, 11733.48682106,  9825.82202529, 33519.23067785,\n",
       "        4765.5934674 ,  8900.21484439, 11797.17149048,  6428.09197433,\n",
       "        8193.86094005,  9642.80390916,  8674.45310929, 10437.00744447,\n",
       "       27961.49879532, 31117.04541684, 11475.71747   ,  8451.51369401,\n",
       "       11887.28093101, 31206.86705785,  6973.02851169, 11774.77479392,\n",
       "        6104.47913502, 32772.68204083,  7481.61064469, 31491.41482188,\n",
       "        7054.46946626,  8991.66382159,  8674.94120907,  7415.18266432,\n",
       "        7495.94614558,  8808.90213466,  8646.22516821,  7716.34049577,\n",
       "       30663.84475285, 35650.82122554,  9123.54963331,  6669.70336599,\n",
       "        8765.52965548,  6226.74397394,  6163.2827892 ,  8312.90033613,\n",
       "        6647.48880712,  9548.7331315 ,  5770.14640836,  7047.25665383,\n",
       "        6103.94118987, 34976.90149986,  9436.24010045,  9537.82287138,\n",
       "        9144.6137023 ,  5814.27199163, 31560.8386817 ,  9070.79924522,\n",
       "       31117.48496173,  8561.45574962, 10416.42022474, 31839.13064204,\n",
       "        9296.79021378, 28518.46965553, 10497.46557188, 11133.57014956,\n",
       "        5993.61342162,  9360.6053572 , 11385.45340835,  8270.87888258,\n",
       "        9209.89021733, 29535.32072908,  9871.08666331,  9745.57587876,\n",
       "       26903.17396332, 28755.16742691,  6030.26999756, 29708.31495924,\n",
       "        5403.56854982,  5232.0339851 ,  5002.60080903,  4947.81742198,\n",
       "        5949.82875667, 29232.59301186, 32272.97613254,  7778.94344821,\n",
       "        6929.01778256, 33301.85256544,  9840.45842247,  8299.7565699 ,\n",
       "        9096.96344887,  5072.84203203, 10048.32886349, 26616.74872673,\n",
       "        9180.95837577, 10427.19793328, 10262.97687795,  4713.02108796,\n",
       "       30731.19633527, 28012.10254704, 28986.83248236, 29082.0752893 ,\n",
       "       10870.88562022, 12255.40865839,  6085.09674376,  8883.90047379,\n",
       "        6204.27433504, 29720.24198874, 10125.86277059, 32869.89587939,\n",
       "       10208.00015845,  9611.05825838,  7507.73003327,  8780.94413227,\n",
       "        9727.65474518,  8657.9532304 , 34698.92339544, 28478.25753873,\n",
       "        7346.26363301,  8546.55654892,  9330.38820118, 10101.14073987,\n",
       "       11709.1547561 ,  8916.97715359, 10694.88337039,  5880.10580896,\n",
       "        6368.40164   ,  9168.92671187,  4881.67136619, 33570.93780218,\n",
       "       10125.83716708, 10103.79349791,  9580.56230985,  9514.87741737,\n",
       "        6842.08545836,  5390.19679118,  8608.4960189 , 11261.95159075,\n",
       "        7324.53357247,  6386.84634542, 30166.81433539,  8115.57304405,\n",
       "        9364.55093861,  5166.5314059 , 29546.11279989,  7433.67512646,\n",
       "       32577.94084337,  5462.5461493 , 10177.27994806,  5560.40449861,\n",
       "        7695.78799124,  9296.38482949,  6120.52083332,  9625.71736685,\n",
       "        5816.24898254,  6961.37789408,  6767.68588245,  9643.33920759,\n",
       "        9330.44602236, 11560.46632465,  6314.33696562,  6417.87084665,\n",
       "       33830.17832913,  5078.41124095,  7756.73421843, 10618.16422624,\n",
       "        9283.55672757,  6951.23498816,  6834.21464667,  4663.91545646,\n",
       "       32909.38460145, 27186.15332374, 10410.33015135,  9732.23552391,\n",
       "        6974.54892351,  6590.46035525,  9082.78656524,  9987.12553509,\n",
       "        5146.5513059 , 28336.6253893 ,  8333.4597405 ,  7666.47879354,\n",
       "        8712.44744777,  6355.25599201, 30734.77717196, 27396.05382927,\n",
       "        8129.99566173,  6468.40056612,  5070.72845412,  4974.12714806,\n",
       "        7638.53277703,  5723.81081443, 32586.5805895 ,  6355.14912338,\n",
       "       11474.78016664,  9571.37644692,  5028.18682935, 12035.41864728,\n",
       "        7347.54157621, 11196.45434064,  7835.70545095, 11986.86479767,\n",
       "       11017.65122901,  6965.75622817,  9559.70487992,  6010.76845723,\n",
       "       13074.07228859,  8799.81588806,  6989.64112066, 30470.26999926,\n",
       "       27680.62430459,  7076.65735492,  7556.90409937,  9620.70628158,\n",
       "        7145.45725865,  9492.22703245, 31965.78256975,  7367.64220471,\n",
       "        7257.23330174,  9776.32872793,  9802.82470472,  6727.75529552,\n",
       "        9681.67826342,  7438.54868854, 10084.87297739,  7714.08277486,\n",
       "        6942.58789173, 33387.55962339, 13556.60187885, 30322.89423665,\n",
       "       10324.53280903, 32921.13405124,  9163.20835101, 30495.32907765,\n",
       "        5789.77159497, 10562.0578214 , 10841.45689098,  7217.94834801,\n",
       "        8736.73108399, 33877.03958354, 26385.21103847,  6060.48455334,\n",
       "        4884.71425772, 12057.0562125 ,  6968.63076472,  6675.55268621,\n",
       "        7102.42470083, 31443.75521321,  6906.29160052, 10929.80160731,\n",
       "       10367.35573966, 32207.64621719, 34554.00082131,  6902.01473452,\n",
       "        5538.82038946,  6545.33731328,  6444.34392535, 10070.71550665,\n",
       "       33871.42533747, 33259.88821163,  6402.01570688,  6135.14181375,\n",
       "        6557.49813742,  8432.17973149, 10106.23464529,  9063.25744965,\n",
       "        6774.45465872, 11800.75360862,  7779.56598765, 10910.11926226,\n",
       "        5769.8445593 ,  7848.44909401,  6740.25686467, 11891.10924512,\n",
       "       28876.54770005,  7486.45046704,  8444.41500756, 32217.40663869,\n",
       "       28515.81685102,  9794.71594816, 11138.05904243,  7622.44402016,\n",
       "        9823.64812572,  7343.01593473,  8704.54356835,  5024.51712028,\n",
       "        8719.65118224, 31400.89031687,  9450.60239942,  5353.40253165,\n",
       "        6023.75043988,  5542.91821562,  7078.6413229 ,  8865.63340382,\n",
       "        9829.46069733, 32853.36337395,  6548.41159202, 10929.98387835,\n",
       "       29892.82106147, 29906.3301305 , 32090.68192275, 10723.88433078,\n",
       "        6948.70445976, 10014.70822351, 32786.83156831, 10164.79489957,\n",
       "        6281.55537988, 30446.40069912,  7055.13936772, 32043.91230189,\n",
       "        9023.13493298, 30263.23398912, 11702.54767471,  8088.72327195,\n",
       "        8814.23192336, 28106.30622155])"
      ]
     },
     "execution_count": 145,
     "metadata": {},
     "output_type": "execute_result"
    }
   ],
   "source": [
    "lr_j1.predict(x_te)"
   ]
  },
  {
   "cell_type": "markdown",
   "id": "b25db78b-96c4-4570-b3b2-8ecaaea89ddb",
   "metadata": {},
   "source": [
    "* lr_j1: This is the trained linear regression model that was loaded from the file \"project_1_joblib\".\n",
    "\n",
    "* .predict(x_te): This method of the linear regression model is used to make predictions on new data. Here, x_te represents the feature matrix of the test dataset.\n",
    "\n",
    "* After executing this line of code, the trained linear regression model lr_j1 will use the learned parameters to predict the target variable for the samples in the test dataset x_te. The output will be an array of predicted target values corresponding to the test samples.\n",
    "\n",
    "* These predicted values can then be compared with the actual target values (y_te) to evaluate the performance of the model on the test dataset, typically using evaluation metrics such as R-squared, mean squared error, etc."
   ]
  },
  {
   "cell_type": "code",
   "execution_count": 146,
   "id": "2f50ce8b-d531-49da-b543-8b79aead2ed6",
   "metadata": {},
   "outputs": [],
   "source": [
    "with open(\"project_1_pickle\", mode=\"rb\") as file:\n",
    "    lr_pk = pickle.load(file)\n",
    "    "
   ]
  },
  {
   "cell_type": "markdown",
   "id": "7f1be82d-d72d-4381-98a0-35f2f263b008",
   "metadata": {},
   "source": [
    "* with open(\"project_1_pickle\", mode=\"rb\") as file:: This line opens the file \"project_1_pickle\" in binary read mode (\"rb\") for reading. The with statement ensures that the file is properly closed after the block of code is executed.\n",
    "\n",
    "* pickle.load(file): This line deserializes (i.e., loads) the object from the file file using the pickle.load() function. The serialized object stored in the file is converted back into its original form and loaded into memory.\n",
    "\n",
    "* Here's the meaning of the parameters:\n",
    "\n",
    "* \"project_1_pickle\": The name of the file from which the serialized object will be loaded.\n",
    "* mode=\"rb\": The file opening mode, where \"rb\" stands for binary read mode.\n",
    "* After executing this code, the serialized object stored in the file \"project_1_pickle\" will be deserialized and loaded into memory as the variable lr_pk.\n",
    "* The exact type and content of the object loaded depend on what was serialized and stored in the file. In this case, it's expected to be the trained linear regression model (or whatever object was saved earlier).\n",
    "\n",
    "\n",
    "\n",
    "\n",
    "\n",
    "\n"
   ]
  },
  {
   "cell_type": "code",
   "execution_count": 147,
   "id": "f76c5a1a-2c59-42ee-aa94-cc2124da750a",
   "metadata": {},
   "outputs": [
    {
     "data": {
      "text/plain": [
       "array([10599.23877133, 12085.00222901,  9512.23688827, 32564.26424804,\n",
       "       10290.92649589,  7496.59989958,  5117.27249845, 12015.42952804,\n",
       "        7586.77065087, 31268.09554562, 12047.22327154,  7466.44167793,\n",
       "        9881.70504833,  7897.72740507, 13418.41624333, 10242.51780928,\n",
       "       28173.62005841,  6951.17059387,  6090.05612264, 29638.94962804,\n",
       "        6639.38005055,  9150.74386646,  7265.36387552,  5205.92365297,\n",
       "       26459.08388897, 11733.48682106,  9825.82202529, 33519.23067785,\n",
       "        4765.5934674 ,  8900.21484439, 11797.17149048,  6428.09197433,\n",
       "        8193.86094005,  9642.80390916,  8674.45310929, 10437.00744447,\n",
       "       27961.49879532, 31117.04541684, 11475.71747   ,  8451.51369401,\n",
       "       11887.28093101, 31206.86705785,  6973.02851169, 11774.77479392,\n",
       "        6104.47913502, 32772.68204083,  7481.61064469, 31491.41482188,\n",
       "        7054.46946626,  8991.66382159,  8674.94120907,  7415.18266432,\n",
       "        7495.94614558,  8808.90213466,  8646.22516821,  7716.34049577,\n",
       "       30663.84475285, 35650.82122554,  9123.54963331,  6669.70336599,\n",
       "        8765.52965548,  6226.74397394,  6163.2827892 ,  8312.90033613,\n",
       "        6647.48880712,  9548.7331315 ,  5770.14640836,  7047.25665383,\n",
       "        6103.94118987, 34976.90149986,  9436.24010045,  9537.82287138,\n",
       "        9144.6137023 ,  5814.27199163, 31560.8386817 ,  9070.79924522,\n",
       "       31117.48496173,  8561.45574962, 10416.42022474, 31839.13064204,\n",
       "        9296.79021378, 28518.46965553, 10497.46557188, 11133.57014956,\n",
       "        5993.61342162,  9360.6053572 , 11385.45340835,  8270.87888258,\n",
       "        9209.89021733, 29535.32072908,  9871.08666331,  9745.57587876,\n",
       "       26903.17396332, 28755.16742691,  6030.26999756, 29708.31495924,\n",
       "        5403.56854982,  5232.0339851 ,  5002.60080903,  4947.81742198,\n",
       "        5949.82875667, 29232.59301186, 32272.97613254,  7778.94344821,\n",
       "        6929.01778256, 33301.85256544,  9840.45842247,  8299.7565699 ,\n",
       "        9096.96344887,  5072.84203203, 10048.32886349, 26616.74872673,\n",
       "        9180.95837577, 10427.19793328, 10262.97687795,  4713.02108796,\n",
       "       30731.19633527, 28012.10254704, 28986.83248236, 29082.0752893 ,\n",
       "       10870.88562022, 12255.40865839,  6085.09674376,  8883.90047379,\n",
       "        6204.27433504, 29720.24198874, 10125.86277059, 32869.89587939,\n",
       "       10208.00015845,  9611.05825838,  7507.73003327,  8780.94413227,\n",
       "        9727.65474518,  8657.9532304 , 34698.92339544, 28478.25753873,\n",
       "        7346.26363301,  8546.55654892,  9330.38820118, 10101.14073987,\n",
       "       11709.1547561 ,  8916.97715359, 10694.88337039,  5880.10580896,\n",
       "        6368.40164   ,  9168.92671187,  4881.67136619, 33570.93780218,\n",
       "       10125.83716708, 10103.79349791,  9580.56230985,  9514.87741737,\n",
       "        6842.08545836,  5390.19679118,  8608.4960189 , 11261.95159075,\n",
       "        7324.53357247,  6386.84634542, 30166.81433539,  8115.57304405,\n",
       "        9364.55093861,  5166.5314059 , 29546.11279989,  7433.67512646,\n",
       "       32577.94084337,  5462.5461493 , 10177.27994806,  5560.40449861,\n",
       "        7695.78799124,  9296.38482949,  6120.52083332,  9625.71736685,\n",
       "        5816.24898254,  6961.37789408,  6767.68588245,  9643.33920759,\n",
       "        9330.44602236, 11560.46632465,  6314.33696562,  6417.87084665,\n",
       "       33830.17832913,  5078.41124095,  7756.73421843, 10618.16422624,\n",
       "        9283.55672757,  6951.23498816,  6834.21464667,  4663.91545646,\n",
       "       32909.38460145, 27186.15332374, 10410.33015135,  9732.23552391,\n",
       "        6974.54892351,  6590.46035525,  9082.78656524,  9987.12553509,\n",
       "        5146.5513059 , 28336.6253893 ,  8333.4597405 ,  7666.47879354,\n",
       "        8712.44744777,  6355.25599201, 30734.77717196, 27396.05382927,\n",
       "        8129.99566173,  6468.40056612,  5070.72845412,  4974.12714806,\n",
       "        7638.53277703,  5723.81081443, 32586.5805895 ,  6355.14912338,\n",
       "       11474.78016664,  9571.37644692,  5028.18682935, 12035.41864728,\n",
       "        7347.54157621, 11196.45434064,  7835.70545095, 11986.86479767,\n",
       "       11017.65122901,  6965.75622817,  9559.70487992,  6010.76845723,\n",
       "       13074.07228859,  8799.81588806,  6989.64112066, 30470.26999926,\n",
       "       27680.62430459,  7076.65735492,  7556.90409937,  9620.70628158,\n",
       "        7145.45725865,  9492.22703245, 31965.78256975,  7367.64220471,\n",
       "        7257.23330174,  9776.32872793,  9802.82470472,  6727.75529552,\n",
       "        9681.67826342,  7438.54868854, 10084.87297739,  7714.08277486,\n",
       "        6942.58789173, 33387.55962339, 13556.60187885, 30322.89423665,\n",
       "       10324.53280903, 32921.13405124,  9163.20835101, 30495.32907765,\n",
       "        5789.77159497, 10562.0578214 , 10841.45689098,  7217.94834801,\n",
       "        8736.73108399, 33877.03958354, 26385.21103847,  6060.48455334,\n",
       "        4884.71425772, 12057.0562125 ,  6968.63076472,  6675.55268621,\n",
       "        7102.42470083, 31443.75521321,  6906.29160052, 10929.80160731,\n",
       "       10367.35573966, 32207.64621719, 34554.00082131,  6902.01473452,\n",
       "        5538.82038946,  6545.33731328,  6444.34392535, 10070.71550665,\n",
       "       33871.42533747, 33259.88821163,  6402.01570688,  6135.14181375,\n",
       "        6557.49813742,  8432.17973149, 10106.23464529,  9063.25744965,\n",
       "        6774.45465872, 11800.75360862,  7779.56598765, 10910.11926226,\n",
       "        5769.8445593 ,  7848.44909401,  6740.25686467, 11891.10924512,\n",
       "       28876.54770005,  7486.45046704,  8444.41500756, 32217.40663869,\n",
       "       28515.81685102,  9794.71594816, 11138.05904243,  7622.44402016,\n",
       "        9823.64812572,  7343.01593473,  8704.54356835,  5024.51712028,\n",
       "        8719.65118224, 31400.89031687,  9450.60239942,  5353.40253165,\n",
       "        6023.75043988,  5542.91821562,  7078.6413229 ,  8865.63340382,\n",
       "        9829.46069733, 32853.36337395,  6548.41159202, 10929.98387835,\n",
       "       29892.82106147, 29906.3301305 , 32090.68192275, 10723.88433078,\n",
       "        6948.70445976, 10014.70822351, 32786.83156831, 10164.79489957,\n",
       "        6281.55537988, 30446.40069912,  7055.13936772, 32043.91230189,\n",
       "        9023.13493298, 30263.23398912, 11702.54767471,  8088.72327195,\n",
       "        8814.23192336, 28106.30622155])"
      ]
     },
     "execution_count": 147,
     "metadata": {},
     "output_type": "execute_result"
    }
   ],
   "source": [
    "lr_pk.predict(x_te)"
   ]
  },
  {
   "cell_type": "markdown",
   "id": "ab55cbcc-490e-4379-9290-1cde802c75c2",
   "metadata": {},
   "source": [
    "* lr_pk: This is the deserialized linear regression model that was loaded from the file \"project_1_pickle\".\n",
    "\n",
    "* .predict(x_te): This method of the linear regression model is used to make predictions on new data. Here, x_te represents the feature matrix of the test dataset.\n",
    "\n",
    "* After executing this line of code, the deserialized linear regression model lr_pk will use the learned parameters to predict the target variable for the samples in the test dataset x_te. The output will be an array of predicted target values corresponding to the test samples.\n",
    "\n",
    "* These predicted values can then be compared with the actual target values (y_te) to evaluate the performance of the model on the test dataset, typically using evaluation metrics such as R-squared, mean squared error, etc."
   ]
  },
  {
   "cell_type": "code",
   "execution_count": 170,
   "id": "43f265d7-20ab-4724-9d2c-b16c27dd3c81",
   "metadata": {},
   "outputs": [
    {
     "data": {
      "text/html": [
       "<style>#sk-container-id-3 {\n",
       "  /* Definition of color scheme common for light and dark mode */\n",
       "  --sklearn-color-text: black;\n",
       "  --sklearn-color-line: gray;\n",
       "  /* Definition of color scheme for unfitted estimators */\n",
       "  --sklearn-color-unfitted-level-0: #fff5e6;\n",
       "  --sklearn-color-unfitted-level-1: #f6e4d2;\n",
       "  --sklearn-color-unfitted-level-2: #ffe0b3;\n",
       "  --sklearn-color-unfitted-level-3: chocolate;\n",
       "  /* Definition of color scheme for fitted estimators */\n",
       "  --sklearn-color-fitted-level-0: #f0f8ff;\n",
       "  --sklearn-color-fitted-level-1: #d4ebff;\n",
       "  --sklearn-color-fitted-level-2: #b3dbfd;\n",
       "  --sklearn-color-fitted-level-3: cornflowerblue;\n",
       "\n",
       "  /* Specific color for light theme */\n",
       "  --sklearn-color-text-on-default-background: var(--sg-text-color, var(--theme-code-foreground, var(--jp-content-font-color1, black)));\n",
       "  --sklearn-color-background: var(--sg-background-color, var(--theme-background, var(--jp-layout-color0, white)));\n",
       "  --sklearn-color-border-box: var(--sg-text-color, var(--theme-code-foreground, var(--jp-content-font-color1, black)));\n",
       "  --sklearn-color-icon: #696969;\n",
       "\n",
       "  @media (prefers-color-scheme: dark) {\n",
       "    /* Redefinition of color scheme for dark theme */\n",
       "    --sklearn-color-text-on-default-background: var(--sg-text-color, var(--theme-code-foreground, var(--jp-content-font-color1, white)));\n",
       "    --sklearn-color-background: var(--sg-background-color, var(--theme-background, var(--jp-layout-color0, #111)));\n",
       "    --sklearn-color-border-box: var(--sg-text-color, var(--theme-code-foreground, var(--jp-content-font-color1, white)));\n",
       "    --sklearn-color-icon: #878787;\n",
       "  }\n",
       "}\n",
       "\n",
       "#sk-container-id-3 {\n",
       "  color: var(--sklearn-color-text);\n",
       "}\n",
       "\n",
       "#sk-container-id-3 pre {\n",
       "  padding: 0;\n",
       "}\n",
       "\n",
       "#sk-container-id-3 input.sk-hidden--visually {\n",
       "  border: 0;\n",
       "  clip: rect(1px 1px 1px 1px);\n",
       "  clip: rect(1px, 1px, 1px, 1px);\n",
       "  height: 1px;\n",
       "  margin: -1px;\n",
       "  overflow: hidden;\n",
       "  padding: 0;\n",
       "  position: absolute;\n",
       "  width: 1px;\n",
       "}\n",
       "\n",
       "#sk-container-id-3 div.sk-dashed-wrapped {\n",
       "  border: 1px dashed var(--sklearn-color-line);\n",
       "  margin: 0 0.4em 0.5em 0.4em;\n",
       "  box-sizing: border-box;\n",
       "  padding-bottom: 0.4em;\n",
       "  background-color: var(--sklearn-color-background);\n",
       "}\n",
       "\n",
       "#sk-container-id-3 div.sk-container {\n",
       "  /* jupyter's `normalize.less` sets `[hidden] { display: none; }`\n",
       "     but bootstrap.min.css set `[hidden] { display: none !important; }`\n",
       "     so we also need the `!important` here to be able to override the\n",
       "     default hidden behavior on the sphinx rendered scikit-learn.org.\n",
       "     See: https://github.com/scikit-learn/scikit-learn/issues/21755 */\n",
       "  display: inline-block !important;\n",
       "  position: relative;\n",
       "}\n",
       "\n",
       "#sk-container-id-3 div.sk-text-repr-fallback {\n",
       "  display: none;\n",
       "}\n",
       "\n",
       "div.sk-parallel-item,\n",
       "div.sk-serial,\n",
       "div.sk-item {\n",
       "  /* draw centered vertical line to link estimators */\n",
       "  background-image: linear-gradient(var(--sklearn-color-text-on-default-background), var(--sklearn-color-text-on-default-background));\n",
       "  background-size: 2px 100%;\n",
       "  background-repeat: no-repeat;\n",
       "  background-position: center center;\n",
       "}\n",
       "\n",
       "/* Parallel-specific style estimator block */\n",
       "\n",
       "#sk-container-id-3 div.sk-parallel-item::after {\n",
       "  content: \"\";\n",
       "  width: 100%;\n",
       "  border-bottom: 2px solid var(--sklearn-color-text-on-default-background);\n",
       "  flex-grow: 1;\n",
       "}\n",
       "\n",
       "#sk-container-id-3 div.sk-parallel {\n",
       "  display: flex;\n",
       "  align-items: stretch;\n",
       "  justify-content: center;\n",
       "  background-color: var(--sklearn-color-background);\n",
       "  position: relative;\n",
       "}\n",
       "\n",
       "#sk-container-id-3 div.sk-parallel-item {\n",
       "  display: flex;\n",
       "  flex-direction: column;\n",
       "}\n",
       "\n",
       "#sk-container-id-3 div.sk-parallel-item:first-child::after {\n",
       "  align-self: flex-end;\n",
       "  width: 50%;\n",
       "}\n",
       "\n",
       "#sk-container-id-3 div.sk-parallel-item:last-child::after {\n",
       "  align-self: flex-start;\n",
       "  width: 50%;\n",
       "}\n",
       "\n",
       "#sk-container-id-3 div.sk-parallel-item:only-child::after {\n",
       "  width: 0;\n",
       "}\n",
       "\n",
       "/* Serial-specific style estimator block */\n",
       "\n",
       "#sk-container-id-3 div.sk-serial {\n",
       "  display: flex;\n",
       "  flex-direction: column;\n",
       "  align-items: center;\n",
       "  background-color: var(--sklearn-color-background);\n",
       "  padding-right: 1em;\n",
       "  padding-left: 1em;\n",
       "}\n",
       "\n",
       "\n",
       "/* Toggleable style: style used for estimator/Pipeline/ColumnTransformer box that is\n",
       "clickable and can be expanded/collapsed.\n",
       "- Pipeline and ColumnTransformer use this feature and define the default style\n",
       "- Estimators will overwrite some part of the style using the `sk-estimator` class\n",
       "*/\n",
       "\n",
       "/* Pipeline and ColumnTransformer style (default) */\n",
       "\n",
       "#sk-container-id-3 div.sk-toggleable {\n",
       "  /* Default theme specific background. It is overwritten whether we have a\n",
       "  specific estimator or a Pipeline/ColumnTransformer */\n",
       "  background-color: var(--sklearn-color-background);\n",
       "}\n",
       "\n",
       "/* Toggleable label */\n",
       "#sk-container-id-3 label.sk-toggleable__label {\n",
       "  cursor: pointer;\n",
       "  display: block;\n",
       "  width: 100%;\n",
       "  margin-bottom: 0;\n",
       "  padding: 0.5em;\n",
       "  box-sizing: border-box;\n",
       "  text-align: center;\n",
       "}\n",
       "\n",
       "#sk-container-id-3 label.sk-toggleable__label-arrow:before {\n",
       "  /* Arrow on the left of the label */\n",
       "  content: \"▸\";\n",
       "  float: left;\n",
       "  margin-right: 0.25em;\n",
       "  color: var(--sklearn-color-icon);\n",
       "}\n",
       "\n",
       "#sk-container-id-3 label.sk-toggleable__label-arrow:hover:before {\n",
       "  color: var(--sklearn-color-text);\n",
       "}\n",
       "\n",
       "/* Toggleable content - dropdown */\n",
       "\n",
       "#sk-container-id-3 div.sk-toggleable__content {\n",
       "  max-height: 0;\n",
       "  max-width: 0;\n",
       "  overflow: hidden;\n",
       "  text-align: left;\n",
       "  /* unfitted */\n",
       "  background-color: var(--sklearn-color-unfitted-level-0);\n",
       "}\n",
       "\n",
       "#sk-container-id-3 div.sk-toggleable__content.fitted {\n",
       "  /* fitted */\n",
       "  background-color: var(--sklearn-color-fitted-level-0);\n",
       "}\n",
       "\n",
       "#sk-container-id-3 div.sk-toggleable__content pre {\n",
       "  margin: 0.2em;\n",
       "  border-radius: 0.25em;\n",
       "  color: var(--sklearn-color-text);\n",
       "  /* unfitted */\n",
       "  background-color: var(--sklearn-color-unfitted-level-0);\n",
       "}\n",
       "\n",
       "#sk-container-id-3 div.sk-toggleable__content.fitted pre {\n",
       "  /* unfitted */\n",
       "  background-color: var(--sklearn-color-fitted-level-0);\n",
       "}\n",
       "\n",
       "#sk-container-id-3 input.sk-toggleable__control:checked~div.sk-toggleable__content {\n",
       "  /* Expand drop-down */\n",
       "  max-height: 200px;\n",
       "  max-width: 100%;\n",
       "  overflow: auto;\n",
       "}\n",
       "\n",
       "#sk-container-id-3 input.sk-toggleable__control:checked~label.sk-toggleable__label-arrow:before {\n",
       "  content: \"▾\";\n",
       "}\n",
       "\n",
       "/* Pipeline/ColumnTransformer-specific style */\n",
       "\n",
       "#sk-container-id-3 div.sk-label input.sk-toggleable__control:checked~label.sk-toggleable__label {\n",
       "  color: var(--sklearn-color-text);\n",
       "  background-color: var(--sklearn-color-unfitted-level-2);\n",
       "}\n",
       "\n",
       "#sk-container-id-3 div.sk-label.fitted input.sk-toggleable__control:checked~label.sk-toggleable__label {\n",
       "  background-color: var(--sklearn-color-fitted-level-2);\n",
       "}\n",
       "\n",
       "/* Estimator-specific style */\n",
       "\n",
       "/* Colorize estimator box */\n",
       "#sk-container-id-3 div.sk-estimator input.sk-toggleable__control:checked~label.sk-toggleable__label {\n",
       "  /* unfitted */\n",
       "  background-color: var(--sklearn-color-unfitted-level-2);\n",
       "}\n",
       "\n",
       "#sk-container-id-3 div.sk-estimator.fitted input.sk-toggleable__control:checked~label.sk-toggleable__label {\n",
       "  /* fitted */\n",
       "  background-color: var(--sklearn-color-fitted-level-2);\n",
       "}\n",
       "\n",
       "#sk-container-id-3 div.sk-label label.sk-toggleable__label,\n",
       "#sk-container-id-3 div.sk-label label {\n",
       "  /* The background is the default theme color */\n",
       "  color: var(--sklearn-color-text-on-default-background);\n",
       "}\n",
       "\n",
       "/* On hover, darken the color of the background */\n",
       "#sk-container-id-3 div.sk-label:hover label.sk-toggleable__label {\n",
       "  color: var(--sklearn-color-text);\n",
       "  background-color: var(--sklearn-color-unfitted-level-2);\n",
       "}\n",
       "\n",
       "/* Label box, darken color on hover, fitted */\n",
       "#sk-container-id-3 div.sk-label.fitted:hover label.sk-toggleable__label.fitted {\n",
       "  color: var(--sklearn-color-text);\n",
       "  background-color: var(--sklearn-color-fitted-level-2);\n",
       "}\n",
       "\n",
       "/* Estimator label */\n",
       "\n",
       "#sk-container-id-3 div.sk-label label {\n",
       "  font-family: monospace;\n",
       "  font-weight: bold;\n",
       "  display: inline-block;\n",
       "  line-height: 1.2em;\n",
       "}\n",
       "\n",
       "#sk-container-id-3 div.sk-label-container {\n",
       "  text-align: center;\n",
       "}\n",
       "\n",
       "/* Estimator-specific */\n",
       "#sk-container-id-3 div.sk-estimator {\n",
       "  font-family: monospace;\n",
       "  border: 1px dotted var(--sklearn-color-border-box);\n",
       "  border-radius: 0.25em;\n",
       "  box-sizing: border-box;\n",
       "  margin-bottom: 0.5em;\n",
       "  /* unfitted */\n",
       "  background-color: var(--sklearn-color-unfitted-level-0);\n",
       "}\n",
       "\n",
       "#sk-container-id-3 div.sk-estimator.fitted {\n",
       "  /* fitted */\n",
       "  background-color: var(--sklearn-color-fitted-level-0);\n",
       "}\n",
       "\n",
       "/* on hover */\n",
       "#sk-container-id-3 div.sk-estimator:hover {\n",
       "  /* unfitted */\n",
       "  background-color: var(--sklearn-color-unfitted-level-2);\n",
       "}\n",
       "\n",
       "#sk-container-id-3 div.sk-estimator.fitted:hover {\n",
       "  /* fitted */\n",
       "  background-color: var(--sklearn-color-fitted-level-2);\n",
       "}\n",
       "\n",
       "/* Specification for estimator info (e.g. \"i\" and \"?\") */\n",
       "\n",
       "/* Common style for \"i\" and \"?\" */\n",
       "\n",
       ".sk-estimator-doc-link,\n",
       "a:link.sk-estimator-doc-link,\n",
       "a:visited.sk-estimator-doc-link {\n",
       "  float: right;\n",
       "  font-size: smaller;\n",
       "  line-height: 1em;\n",
       "  font-family: monospace;\n",
       "  background-color: var(--sklearn-color-background);\n",
       "  border-radius: 1em;\n",
       "  height: 1em;\n",
       "  width: 1em;\n",
       "  text-decoration: none !important;\n",
       "  margin-left: 1ex;\n",
       "  /* unfitted */\n",
       "  border: var(--sklearn-color-unfitted-level-1) 1pt solid;\n",
       "  color: var(--sklearn-color-unfitted-level-1);\n",
       "}\n",
       "\n",
       ".sk-estimator-doc-link.fitted,\n",
       "a:link.sk-estimator-doc-link.fitted,\n",
       "a:visited.sk-estimator-doc-link.fitted {\n",
       "  /* fitted */\n",
       "  border: var(--sklearn-color-fitted-level-1) 1pt solid;\n",
       "  color: var(--sklearn-color-fitted-level-1);\n",
       "}\n",
       "\n",
       "/* On hover */\n",
       "div.sk-estimator:hover .sk-estimator-doc-link:hover,\n",
       ".sk-estimator-doc-link:hover,\n",
       "div.sk-label-container:hover .sk-estimator-doc-link:hover,\n",
       ".sk-estimator-doc-link:hover {\n",
       "  /* unfitted */\n",
       "  background-color: var(--sklearn-color-unfitted-level-3);\n",
       "  color: var(--sklearn-color-background);\n",
       "  text-decoration: none;\n",
       "}\n",
       "\n",
       "div.sk-estimator.fitted:hover .sk-estimator-doc-link.fitted:hover,\n",
       ".sk-estimator-doc-link.fitted:hover,\n",
       "div.sk-label-container:hover .sk-estimator-doc-link.fitted:hover,\n",
       ".sk-estimator-doc-link.fitted:hover {\n",
       "  /* fitted */\n",
       "  background-color: var(--sklearn-color-fitted-level-3);\n",
       "  color: var(--sklearn-color-background);\n",
       "  text-decoration: none;\n",
       "}\n",
       "\n",
       "/* Span, style for the box shown on hovering the info icon */\n",
       ".sk-estimator-doc-link span {\n",
       "  display: none;\n",
       "  z-index: 9999;\n",
       "  position: relative;\n",
       "  font-weight: normal;\n",
       "  right: .2ex;\n",
       "  padding: .5ex;\n",
       "  margin: .5ex;\n",
       "  width: min-content;\n",
       "  min-width: 20ex;\n",
       "  max-width: 50ex;\n",
       "  color: var(--sklearn-color-text);\n",
       "  box-shadow: 2pt 2pt 4pt #999;\n",
       "  /* unfitted */\n",
       "  background: var(--sklearn-color-unfitted-level-0);\n",
       "  border: .5pt solid var(--sklearn-color-unfitted-level-3);\n",
       "}\n",
       "\n",
       ".sk-estimator-doc-link.fitted span {\n",
       "  /* fitted */\n",
       "  background: var(--sklearn-color-fitted-level-0);\n",
       "  border: var(--sklearn-color-fitted-level-3);\n",
       "}\n",
       "\n",
       ".sk-estimator-doc-link:hover span {\n",
       "  display: block;\n",
       "}\n",
       "\n",
       "/* \"?\"-specific style due to the `<a>` HTML tag */\n",
       "\n",
       "#sk-container-id-3 a.estimator_doc_link {\n",
       "  float: right;\n",
       "  font-size: 1rem;\n",
       "  line-height: 1em;\n",
       "  font-family: monospace;\n",
       "  background-color: var(--sklearn-color-background);\n",
       "  border-radius: 1rem;\n",
       "  height: 1rem;\n",
       "  width: 1rem;\n",
       "  text-decoration: none;\n",
       "  /* unfitted */\n",
       "  color: var(--sklearn-color-unfitted-level-1);\n",
       "  border: var(--sklearn-color-unfitted-level-1) 1pt solid;\n",
       "}\n",
       "\n",
       "#sk-container-id-3 a.estimator_doc_link.fitted {\n",
       "  /* fitted */\n",
       "  border: var(--sklearn-color-fitted-level-1) 1pt solid;\n",
       "  color: var(--sklearn-color-fitted-level-1);\n",
       "}\n",
       "\n",
       "/* On hover */\n",
       "#sk-container-id-3 a.estimator_doc_link:hover {\n",
       "  /* unfitted */\n",
       "  background-color: var(--sklearn-color-unfitted-level-3);\n",
       "  color: var(--sklearn-color-background);\n",
       "  text-decoration: none;\n",
       "}\n",
       "\n",
       "#sk-container-id-3 a.estimator_doc_link.fitted:hover {\n",
       "  /* fitted */\n",
       "  background-color: var(--sklearn-color-fitted-level-3);\n",
       "}\n",
       "</style><div id=\"sk-container-id-3\" class=\"sk-top-container\"><div class=\"sk-text-repr-fallback\"><pre>RandomForestRegressor(random_state=42)</pre><b>In a Jupyter environment, please rerun this cell to show the HTML representation or trust the notebook. <br />On GitHub, the HTML representation is unable to render, please try loading this page with nbviewer.org.</b></div><div class=\"sk-container\" hidden><div class=\"sk-item\"><div class=\"sk-estimator fitted sk-toggleable\"><input class=\"sk-toggleable__control sk-hidden--visually\" id=\"sk-estimator-id-7\" type=\"checkbox\" checked><label for=\"sk-estimator-id-7\" class=\"sk-toggleable__label fitted sk-toggleable__label-arrow fitted\">&nbsp;&nbsp;RandomForestRegressor<a class=\"sk-estimator-doc-link fitted\" rel=\"noreferrer\" target=\"_blank\" href=\"https://scikit-learn.org/1.4/modules/generated/sklearn.ensemble.RandomForestRegressor.html\">?<span>Documentation for RandomForestRegressor</span></a><span class=\"sk-estimator-doc-link fitted\">i<span>Fitted</span></span></label><div class=\"sk-toggleable__content fitted\"><pre>RandomForestRegressor(random_state=42)</pre></div> </div></div></div></div>"
      ],
      "text/plain": [
       "RandomForestRegressor(random_state=42)"
      ]
     },
     "execution_count": 170,
     "metadata": {},
     "output_type": "execute_result"
    }
   ],
   "source": [
    "regressor = RandomForestRegressor(random_state=42)\n",
    "regressor.fit(x_tr, y_tr)"
   ]
  },
  {
   "cell_type": "markdown",
   "id": "971b1fa0-9b1b-4215-8aa1-8d426b796c63",
   "metadata": {},
   "source": [
    "* RandomForestRegressor(random_state=42): This creates an instance of the random forest regressor class (RandomForestRegressor).\n",
    "* Random forests are a popular ensemble learning technique that builds multiple decision trees during training and outputs the average prediction of the individual trees.\n",
    "* The random_state parameter is set to 42 to ensure reproducibility of results. Setting a random_state ensures that the random number generation is consistent across different runs of the code.\n",
    "\n",
    "* regressor.fit(x_tr, y_tr): This method call fits (trains) the random forest regressor (regressor) to the training data. The x_tr parameter represents the feature matrix of the training dataset, and y_tr represents the corresponding target values.\n",
    "*  During training, the model learns the relationship between the features and the target variable.\n",
    "\n",
    "After executing this line of code, the random forest regressor (regressor) will be trained on the provided training data (x_tr, y_tr). The model is now ready to make predictions on new data or be evaluated for its performance.\n",
    "\n",
    "\n",
    "\n",
    "\n",
    "\n",
    "\n"
   ]
  },
  {
   "cell_type": "code",
   "execution_count": 173,
   "id": "9f020e06-a851-4928-bbaf-eb79d4c7afdb",
   "metadata": {},
   "outputs": [
    {
     "name": "stdout",
     "output_type": "stream",
     "text": [
      "Mean absolute error: 5339.98\n",
      "Residual sum of squares (MSE): 58406931.03\n",
      "R2-score: 0.67\n"
     ]
    }
   ],
   "source": [
    "y_pred = regressor.predict(x_te)\n",
    "print(\"Mean absolute error: %.2f\" % np.mean(np.absolute(y_pred - y_te)))\n",
    "print(\"Residual sum of squares (MSE): %.2f\" % np.mean((y_pred - y_te) ** 2))\n",
    "print(\"R2-score: %.2f\" % r2_score(y_te , y_pred) )"
   ]
  },
  {
   "cell_type": "markdown",
   "id": "b4639e65-cd28-47a2-884d-f5dd85861df3",
   "metadata": {},
   "source": [
    "* y_pred = regressor.predict(x_te): This line uses the trained random forest regressor (regressor) to predict the target variable for the samples in the test dataset (x_te). The predicted values are stored in the variable y_pred.\n",
    "\n",
    "* np.mean(np.absolute(y_pred - y_te)): This calculates the mean absolute error (MAE) between the predicted target values (y_pred) and the actual target values (y_te). The mean absolute error represents the average absolute difference between the predicted and actual values.\n",
    "\n",
    "* np.mean((y_pred - y_te) ** 2): This calculates the residual sum of squares (MSE) between the predicted target values (y_pred) and the actual target values (y_te). The residual sum of squares represents the average squared difference between the predicted and actual values.\n",
    "\n",
    "* r2_score(y_te, y_pred): This calculates the R-squared score between the actual target values (y_te) and the predicted target values (y_pred). R-squared measures the proportion of the variance in the dependent variable that is predictable from the independent variables.\n",
    "\n",
    "* print(\"Mean absolute error: %.2f\" % ...): This prints the mean absolute error with two decimal places using string formatting.\n",
    "\n",
    "* print(\"Residual sum of squares (MSE): %.2f\" % ...): This prints the residual sum of squares (MSE) with two decimal places using string formatting.\n",
    "\n",
    "* print(\"R2-score: %.2f\" % ...): This prints the R-squared score with two decimal places using string formatting.\n",
    "\n",
    "* By printing these evaluation metrics, you can assess the performance of the random forest regressor on the test dataset and understand how well the model is predicting the target variable. Lower values of MAE and MSE and higher values of R-squared indicate better performance.\n",
    "\n",
    "\n",
    "\n",
    "\n",
    "\n",
    "\n"
   ]
  },
  {
   "cell_type": "code",
   "execution_count": null,
   "id": "e2478403-e473-485a-8de8-79e2fbf7a613",
   "metadata": {},
   "outputs": [],
   "source": []
  }
 ],
 "metadata": {
  "kernelspec": {
   "display_name": "Python 3 (ipykernel)",
   "language": "python",
   "name": "python3"
  },
  "language_info": {
   "codemirror_mode": {
    "name": "ipython",
    "version": 3
   },
   "file_extension": ".py",
   "mimetype": "text/x-python",
   "name": "python",
   "nbconvert_exporter": "python",
   "pygments_lexer": "ipython3",
   "version": "3.12.0"
  }
 },
 "nbformat": 4,
 "nbformat_minor": 5
}
